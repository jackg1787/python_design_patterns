{
 "cells": [
  {
   "cell_type": "markdown",
   "id": "identified-departure",
   "metadata": {},
   "source": [
    "# wtf is a metaclass\n",
    "\n",
    "recommended that you do not use them - overly complex and result in bad code most of the time\n",
    "\n",
    "a class defines the rules for an object- what parameters, attributes, methods, operations can be performed.\n",
    "\n",
    "a meta class defines the rules for a class.\n",
    "\n",
    "when you create a class, this is happening automatically"
   ]
  },
  {
   "cell_type": "code",
   "execution_count": 1,
   "id": "automatic-schedule",
   "metadata": {
    "ExecuteTime": {
     "end_time": "2022-01-17T11:37:10.972661Z",
     "start_time": "2022-01-17T11:37:10.955629Z"
    }
   },
   "outputs": [
    {
     "name": "stdout",
     "output_type": "stream",
     "text": [
      "<class '__main__.Test'>\n",
      "<__main__.Test object at 0x00000171A902FE08>\n",
      "<class '__main__.Test'>\n",
      "<class 'type'>\n",
      "<__main__.Test object at 0x00000171A902FE08>\n",
      "5\n"
     ]
    }
   ],
   "source": [
    "class Test:\n",
    "    pass\n",
    "\n",
    "print(Test)\n",
    "\n",
    "print(Test())\n",
    "# our class has type __main__.Test\n",
    "print(type(Test()))\n",
    "\n",
    "#but what is the type of a class?\n",
    "\n",
    "print(type(Test))\n",
    "#our class is type type - this is the metaclass. this is what is defining our rules, and creates our class.\n",
    "#when we define our class, we are calling the type constructor that makes our class object, that can then be used to \n",
    "#make instances of the object\n",
    "\n",
    "#for example we can use type to create the class\n",
    "#this is exactly the same as above\n",
    "Test = type('Test', (), {})\n",
    "\n",
    "#the format is Name, bases (anything we want to inherit from, any base classes or super classes, and then any {attributes})\n",
    "print(Test())\n",
    "\n",
    "# e.g. we can set an attribute x to 5\n",
    "Test = type('Test', (), {'x': 5})\n",
    "print(Test().x)\n"
   ]
  },
  {
   "cell_type": "code",
   "execution_count": 2,
   "id": "selected-annex",
   "metadata": {
    "ExecuteTime": {
     "end_time": "2022-01-17T11:37:12.193805Z",
     "start_time": "2022-01-17T11:37:12.180814Z"
    }
   },
   "outputs": [
    {
     "name": "stdout",
     "output_type": "stream",
     "text": [
      "hi\n",
      "9\n"
     ]
    }
   ],
   "source": [
    "class Foo:\n",
    "    def show(self):\n",
    "        print('hi')\n",
    "        \n",
    "def add_attribute(self):\n",
    "    self.z = 9\n",
    "    \n",
    "Test = type('Test', (Foo,), {'x': 5, 'add_attribute': add_attribute})\n",
    "\n",
    "t = Test()\n",
    "t.show()\n",
    "t.add_attribute()\n",
    "print(t.z)\n",
    "\n",
    "#All we are really doing when we define our class is we are passing the information onto type, which is creating an\n",
    "# object of that class"
   ]
  },
  {
   "cell_type": "code",
   "execution_count": 3,
   "id": "educational-paraguay",
   "metadata": {
    "ExecuteTime": {
     "end_time": "2022-01-17T11:37:13.106369Z",
     "start_time": "2022-01-17T11:37:13.090370Z"
    }
   },
   "outputs": [
    {
     "name": "stdout",
     "output_type": "stream",
     "text": [
      "{'__module__': '__main__', '__qualname__': 'Dog', 'x': 5, 'y': 8, 'hello': <function Dog.hello at 0x00000171A90438B8>}\n"
     ]
    }
   ],
   "source": [
    "# what about meta classes?\n",
    "# metaclass is above the class that you are defining. when you define your class, that information is \n",
    "# passed up to the metaclass, which is then creating the class object.\n",
    "# so instead of using our built in type class,we can make our own metaclass - this inherits from type\n",
    "\n",
    "class Meta(type):\n",
    "    # this is the first thing that is always called, even before the init. \n",
    "    #the init is just taking the already created object, and modifies it by setting values etc\n",
    "    def __new__(self, class_name, bases, attrs):\n",
    "        print(attrs)\n",
    "        return type(class_name, bases, attrs)\n",
    "        \n",
    "    \n",
    "class Dog(metaclass = Meta):\n",
    "    x = 5\n",
    "    y = 8\n",
    "    \n",
    "    def hello(self):\n",
    "        print('hi')\n",
    "    \n",
    "#d = Dog()\n",
    "\n",
    "#we have overridden the metaclass with our own one\n",
    "# we can see our print call"
   ]
  },
  {
   "cell_type": "code",
   "execution_count": 4,
   "id": "neither-debate",
   "metadata": {
    "ExecuteTime": {
     "end_time": "2022-01-17T11:37:13.961102Z",
     "start_time": "2022-01-17T11:37:13.945103Z"
    }
   },
   "outputs": [
    {
     "name": "stdout",
     "output_type": "stream",
     "text": [
      "{'__module__': '__main__', '__qualname__': 'Dog', 'x': 5, 'y': 8, 'hello': <function Dog.hello at 0x00000171A9043798>}\n",
      "{'__module__': '__main__', '__qualname__': 'Dog', 'X': 5, 'Y': 8, 'HELLO': <function Dog.hello at 0x00000171A9043798>}\n"
     ]
    }
   ],
   "source": [
    "# maybe we want to change everything to be upper case\n",
    "\n",
    "class Meta(type):\n",
    "    def __new__(self, class_name, bases, attrs):\n",
    "        print(attrs)\n",
    "        a = {}\n",
    "        \n",
    "        for item, val in attrs.items():\n",
    "            if item.startswith('__'):\n",
    "                a[item] = val\n",
    "            else:\n",
    "                a[item.upper()] = val\n",
    "        print(a)\n",
    "        return type(class_name, bases, a)\n",
    "        \n",
    "    \n",
    "class Dog(metaclass = Meta):\n",
    "    x = 5\n",
    "    y = 8\n",
    "    \n",
    "    def hello(self):\n",
    "        print('hi')\n",
    "    "
   ]
  },
  {
   "cell_type": "code",
   "execution_count": 5,
   "id": "ecological-carroll",
   "metadata": {
    "ExecuteTime": {
     "end_time": "2022-01-17T11:37:15.403064Z",
     "start_time": "2022-01-17T11:37:15.281081Z"
    }
   },
   "outputs": [
    {
     "ename": "AttributeError",
     "evalue": "'Dog' object has no attribute 'x'",
     "output_type": "error",
     "traceback": [
      "\u001b[1;31m---------------------------------------------------------------------------\u001b[0m",
      "\u001b[1;31mAttributeError\u001b[0m                            Traceback (most recent call last)",
      "\u001b[1;32m<ipython-input-5-f74b135882b2>\u001b[0m in \u001b[0;36m<module>\u001b[1;34m\u001b[0m\n\u001b[0;32m      1\u001b[0m \u001b[0md\u001b[0m \u001b[1;33m=\u001b[0m \u001b[0mDog\u001b[0m\u001b[1;33m(\u001b[0m\u001b[1;33m)\u001b[0m\u001b[1;33m\u001b[0m\u001b[1;33m\u001b[0m\u001b[0m\n\u001b[1;32m----> 2\u001b[1;33m \u001b[0mprint\u001b[0m\u001b[1;33m(\u001b[0m\u001b[0md\u001b[0m\u001b[1;33m.\u001b[0m\u001b[0mx\u001b[0m\u001b[1;33m)\u001b[0m\u001b[1;33m\u001b[0m\u001b[1;33m\u001b[0m\u001b[0m\n\u001b[0m",
      "\u001b[1;31mAttributeError\u001b[0m: 'Dog' object has no attribute 'x'"
     ]
    }
   ],
   "source": [
    "d = Dog()\n",
    "print(d.x)"
   ]
  },
  {
   "cell_type": "code",
   "execution_count": 6,
   "id": "acceptable-belfast",
   "metadata": {
    "ExecuteTime": {
     "end_time": "2022-01-17T11:37:16.685350Z",
     "start_time": "2022-01-17T11:37:16.665361Z"
    }
   },
   "outputs": [
    {
     "name": "stdout",
     "output_type": "stream",
     "text": [
      "hi\n"
     ]
    }
   ],
   "source": [
    "d.HELLO()"
   ]
  },
  {
   "cell_type": "code",
   "execution_count": 7,
   "id": "baking-depression",
   "metadata": {
    "ExecuteTime": {
     "end_time": "2022-01-17T11:37:17.346295Z",
     "start_time": "2022-01-17T11:37:17.328292Z"
    }
   },
   "outputs": [
    {
     "name": "stdout",
     "output_type": "stream",
     "text": [
      "5\n"
     ]
    }
   ],
   "source": [
    "print(d.X)"
   ]
  },
  {
   "cell_type": "markdown",
   "id": "digital-secret",
   "metadata": {},
   "source": [
    "for example we can use it to force a class to be constructed with a certain method, or whatever. \n",
    "\n",
    "you can inherit a metaclass in a metaclass"
   ]
  },
  {
   "cell_type": "markdown",
   "id": "exempt-thousand",
   "metadata": {},
   "source": [
    "so in the below example, we are creating a Singleton metaclass, which will be used to create our Class object\n",
    "we can see that it is not overriding the \\_\\_new\\_\\_ method - so this will be the same\n",
    "\n",
    "Instead we are overriding the \\_\\_call\\_\\_ method\n",
    "\n",
    "so here our meta class will remember if we have already created an instance of a class. if we have not, then \n",
    "the meta \\_\\_call\\_\\_ is going to super our cls, which will  run the \\_\\_new\\_\\_ and \\_\\_init\\_\\_ of the cls.\n",
    "\n",
    "see the below example with new instead, to see why that would not work (basically because the \\_\\_new\\_\\_ is called when our class is created, not when we call the created class to make an instance of it)"
   ]
  },
  {
   "cell_type": "code",
   "execution_count": 8,
   "id": "further-artist",
   "metadata": {
    "ExecuteTime": {
     "end_time": "2022-01-17T11:37:19.668796Z",
     "start_time": "2022-01-17T11:37:19.649391Z"
    }
   },
   "outputs": [],
   "source": [
    "class Singleton(type):\n",
    "    _instances = {}\n",
    "    \n",
    "    def __call__(cls, *args, **kwargs):\n",
    "        print(cls._instances)\n",
    "        if cls not in cls._instances:\n",
    "            # we want to excecute the __call__ method of the class that is the level above Singleton in the inheritence\n",
    "            #in this case that means we call type.__new__() which executes the class __new__ and __init__ by default\n",
    "            cls._instances[cls] = super(Singleton, cls).__call__(*args, **kwargs)\n",
    "        else:\n",
    "            print(\"\"\"we already see that our metacalss made an instance of the class- in this case, we are just wanting\n",
    "                  to return our instance\"\"\")\n",
    "        return cls._instances[cls]\n",
    "    \n",
    "\n",
    "class Database(metaclass = Singleton):\n",
    "    def __init__(self):\n",
    "        print('executing Database.__init__()')\n",
    "        print('loading db')\n",
    "    \n",
    "    #added for clarity\n",
    "    def __new__(cls, *a, **kw):\n",
    "        print('executing Database.__new__()')\n",
    "        rv = super(Database, cls).__new__(cls, *a, **kw)\n",
    "        print('done with __new__')\n",
    "        return rv"
   ]
  },
  {
   "cell_type": "code",
   "execution_count": 9,
   "id": "processed-music",
   "metadata": {
    "ExecuteTime": {
     "end_time": "2022-01-17T11:37:20.936608Z",
     "start_time": "2022-01-17T11:37:20.920608Z"
    },
    "scrolled": true
   },
   "outputs": [
    {
     "name": "stdout",
     "output_type": "stream",
     "text": [
      "{}\n",
      "executing Database.__new__()\n",
      "done with __new__\n",
      "executing Database.__init__()\n",
      "loading db\n"
     ]
    }
   ],
   "source": [
    "d1 = Database()\n"
   ]
  },
  {
   "cell_type": "code",
   "execution_count": 10,
   "id": "auburn-harrison",
   "metadata": {
    "ExecuteTime": {
     "end_time": "2022-01-17T11:37:22.431340Z",
     "start_time": "2022-01-17T11:37:22.416305Z"
    }
   },
   "outputs": [
    {
     "name": "stdout",
     "output_type": "stream",
     "text": [
      "{<class '__main__.Database'>: <__main__.Database object at 0x00000171A8F8FF88>}\n",
      "we already see that our metacalss made an instance of the class- in this case, we are just wanting\n",
      "                  to return our instance\n"
     ]
    }
   ],
   "source": [
    "d2 = Database()"
   ]
  },
  {
   "cell_type": "code",
   "execution_count": 11,
   "id": "digital-composite",
   "metadata": {
    "ExecuteTime": {
     "end_time": "2022-01-17T11:37:22.854364Z",
     "start_time": "2022-01-17T11:37:22.840367Z"
    }
   },
   "outputs": [
    {
     "name": "stdout",
     "output_type": "stream",
     "text": [
      "{}\n"
     ]
    }
   ],
   "source": [
    "#THIS DOES NOT WORK!! \n",
    "#we can see that the __new__ is being called when we specify the class, NOT WHEN WE instanciate it!!!!\n",
    "\n",
    "# This is why we must use the call() instead. we want it to be executed when we call our class definition, not when we\n",
    "#create the class object\n",
    "\n",
    "class Singleton(type):\n",
    "    _instances = {}\n",
    "    \n",
    "    def __new__(cls, *args, **kwargs):\n",
    "        print(cls._instances)\n",
    "        if cls not in cls._instances:\n",
    "            cls._instances[cls] = super(Singleton, cls).__new__(cls, *args, **kwargs)\n",
    "        else:\n",
    "            print(\"\"\"we already see that our metacalss made an instance of the class- in this case, we are just wanting\n",
    "                  to return our instance\"\"\")\n",
    "        return cls._instances[cls]\n",
    "    \n",
    "\n",
    "class Database(metaclass = Singleton):\n",
    "    def __init__(self):\n",
    "        print('executing Database.__init__()')\n",
    "        print('loading db')\n",
    "    \n",
    "    #added for clarity\n",
    "    def __new__(cls, *a, **kw):\n",
    "        print('executing Database.__new__()')\n",
    "        rv = super(Database, cls).__new__(cls, *a, **kw)\n",
    "        print('done with __new__')\n",
    "        return rv"
   ]
  },
  {
   "cell_type": "markdown",
   "id": "fatal-melissa",
   "metadata": {},
   "source": [
    "# my attempt at a meta class\n",
    "\n",
    "this metaclass inspects annotations and enforces strong typing for them when running a class init"
   ]
  },
  {
   "cell_type": "code",
   "execution_count": 12,
   "id": "nearby-departure",
   "metadata": {
    "ExecuteTime": {
     "end_time": "2022-01-17T11:37:24.233623Z",
     "start_time": "2022-01-17T11:37:24.218627Z"
    }
   },
   "outputs": [],
   "source": [
    "import inspect\n",
    "\n",
    "class Typed(type):\n",
    "    \"\"\"meta class that checks provided arguments against annotations, and enforces typing. \n",
    "    raises TypeError if arg is found with incorrect type\"\"\"\n",
    "    def __call__(cls, *args, **kwargs):\n",
    "        cls_ = super(Typed, cls).__call__(*args, **kwargs)\n",
    "        expected_args = inspect.signature(cls_.__init__)        \n",
    "        params = list(expected_args.parameters.values())\n",
    "        # check the args\n",
    "        for i,arg in enumerate(args):\n",
    "            param = params[i]\n",
    "            Typed._check_param_arg(param, arg)\n",
    "            \n",
    "        #check the kwargs\n",
    "        for a,b in kwargs.items():\n",
    "            param = expected_args.parameters[a]\n",
    "            Typed._check_param_arg(param, b) \n",
    "        return cls_    \n",
    "    \n",
    "    def _check_param_arg(param, arg):\n",
    "        if param.annotation == param.empty:\n",
    "            pass\n",
    "        elif param.annotation != type(arg):\n",
    "            raise TypeError(' argument with value {} must have type {}'.format(arg, param.annotation))\n",
    "        else:\n",
    "            pass\n",
    "        return None"
   ]
  },
  {
   "cell_type": "code",
   "execution_count": 13,
   "id": "virtual-causing",
   "metadata": {
    "ExecuteTime": {
     "end_time": "2022-01-17T11:37:25.591530Z",
     "start_time": "2022-01-17T11:37:25.574800Z"
    }
   },
   "outputs": [],
   "source": [
    "class EG(metaclass = Typed):\n",
    "    def __init__(self, a, b: str, c: float, d = 'a'):\n",
    "        self.a = a"
   ]
  },
  {
   "cell_type": "code",
   "execution_count": 14,
   "id": "flying-carpet",
   "metadata": {
    "ExecuteTime": {
     "end_time": "2022-01-17T11:37:26.690855Z",
     "start_time": "2022-01-17T11:37:26.679856Z"
    }
   },
   "outputs": [],
   "source": [
    "e = EG(1,b = 'f', c= 1.2) #works"
   ]
  },
  {
   "cell_type": "code",
   "execution_count": 15,
   "id": "understood-dispute",
   "metadata": {
    "ExecuteTime": {
     "end_time": "2022-01-17T11:37:27.473431Z",
     "start_time": "2022-01-17T11:37:27.439433Z"
    }
   },
   "outputs": [
    {
     "ename": "TypeError",
     "evalue": " argument with value 1.2 must have type <class 'float'>",
     "output_type": "error",
     "traceback": [
      "\u001b[1;31m---------------------------------------------------------------------------\u001b[0m",
      "\u001b[1;31mTypeError\u001b[0m                                 Traceback (most recent call last)",
      "\u001b[1;32m<ipython-input-15-5dbfdbdbf5c7>\u001b[0m in \u001b[0;36m<module>\u001b[1;34m\u001b[0m\n\u001b[1;32m----> 1\u001b[1;33m \u001b[0me\u001b[0m \u001b[1;33m=\u001b[0m \u001b[0mEG\u001b[0m\u001b[1;33m(\u001b[0m\u001b[1;36m1\u001b[0m\u001b[1;33m,\u001b[0m\u001b[0mb\u001b[0m \u001b[1;33m=\u001b[0m \u001b[1;34m'f'\u001b[0m\u001b[1;33m,\u001b[0m \u001b[0mc\u001b[0m\u001b[1;33m=\u001b[0m \u001b[1;34m\"1.2\"\u001b[0m\u001b[1;33m)\u001b[0m \u001b[1;31m#error\u001b[0m\u001b[1;33m\u001b[0m\u001b[1;33m\u001b[0m\u001b[0m\n\u001b[0m",
      "\u001b[1;32m<ipython-input-12-019d508af2e0>\u001b[0m in \u001b[0;36m__call__\u001b[1;34m(cls, *args, **kwargs)\u001b[0m\n\u001b[0;32m     16\u001b[0m         \u001b[1;32mfor\u001b[0m \u001b[0ma\u001b[0m\u001b[1;33m,\u001b[0m\u001b[0mb\u001b[0m \u001b[1;32min\u001b[0m \u001b[0mkwargs\u001b[0m\u001b[1;33m.\u001b[0m\u001b[0mitems\u001b[0m\u001b[1;33m(\u001b[0m\u001b[1;33m)\u001b[0m\u001b[1;33m:\u001b[0m\u001b[1;33m\u001b[0m\u001b[1;33m\u001b[0m\u001b[0m\n\u001b[0;32m     17\u001b[0m             \u001b[0mparam\u001b[0m \u001b[1;33m=\u001b[0m \u001b[0mexpected_args\u001b[0m\u001b[1;33m.\u001b[0m\u001b[0mparameters\u001b[0m\u001b[1;33m[\u001b[0m\u001b[0ma\u001b[0m\u001b[1;33m]\u001b[0m\u001b[1;33m\u001b[0m\u001b[1;33m\u001b[0m\u001b[0m\n\u001b[1;32m---> 18\u001b[1;33m             \u001b[0mTyped\u001b[0m\u001b[1;33m.\u001b[0m\u001b[0m_check_param_arg\u001b[0m\u001b[1;33m(\u001b[0m\u001b[0mparam\u001b[0m\u001b[1;33m,\u001b[0m \u001b[0mb\u001b[0m\u001b[1;33m)\u001b[0m\u001b[1;33m\u001b[0m\u001b[1;33m\u001b[0m\u001b[0m\n\u001b[0m\u001b[0;32m     19\u001b[0m         \u001b[1;32mreturn\u001b[0m \u001b[0mcls_\u001b[0m\u001b[1;33m\u001b[0m\u001b[1;33m\u001b[0m\u001b[0m\n\u001b[0;32m     20\u001b[0m \u001b[1;33m\u001b[0m\u001b[0m\n",
      "\u001b[1;32m<ipython-input-12-019d508af2e0>\u001b[0m in \u001b[0;36m_check_param_arg\u001b[1;34m(param, arg)\u001b[0m\n\u001b[0;32m     23\u001b[0m             \u001b[1;32mpass\u001b[0m\u001b[1;33m\u001b[0m\u001b[1;33m\u001b[0m\u001b[0m\n\u001b[0;32m     24\u001b[0m         \u001b[1;32melif\u001b[0m \u001b[0mparam\u001b[0m\u001b[1;33m.\u001b[0m\u001b[0mannotation\u001b[0m \u001b[1;33m!=\u001b[0m \u001b[0mtype\u001b[0m\u001b[1;33m(\u001b[0m\u001b[0marg\u001b[0m\u001b[1;33m)\u001b[0m\u001b[1;33m:\u001b[0m\u001b[1;33m\u001b[0m\u001b[1;33m\u001b[0m\u001b[0m\n\u001b[1;32m---> 25\u001b[1;33m             \u001b[1;32mraise\u001b[0m \u001b[0mTypeError\u001b[0m\u001b[1;33m(\u001b[0m\u001b[1;34m' argument with value {} must have type {}'\u001b[0m\u001b[1;33m.\u001b[0m\u001b[0mformat\u001b[0m\u001b[1;33m(\u001b[0m\u001b[0marg\u001b[0m\u001b[1;33m,\u001b[0m \u001b[0mparam\u001b[0m\u001b[1;33m.\u001b[0m\u001b[0mannotation\u001b[0m\u001b[1;33m)\u001b[0m\u001b[1;33m)\u001b[0m\u001b[1;33m\u001b[0m\u001b[1;33m\u001b[0m\u001b[0m\n\u001b[0m\u001b[0;32m     26\u001b[0m         \u001b[1;32melse\u001b[0m\u001b[1;33m:\u001b[0m\u001b[1;33m\u001b[0m\u001b[1;33m\u001b[0m\u001b[0m\n\u001b[0;32m     27\u001b[0m             \u001b[1;32mpass\u001b[0m\u001b[1;33m\u001b[0m\u001b[1;33m\u001b[0m\u001b[0m\n",
      "\u001b[1;31mTypeError\u001b[0m:  argument with value 1.2 must have type <class 'float'>"
     ]
    }
   ],
   "source": [
    "e = EG(1,b = 'f', c= \"1.2\") #error"
   ]
  },
  {
   "cell_type": "code",
   "execution_count": 16,
   "id": "yellow-configuration",
   "metadata": {
    "ExecuteTime": {
     "end_time": "2022-01-17T11:37:29.391356Z",
     "start_time": "2022-01-17T11:37:29.376329Z"
    }
   },
   "outputs": [],
   "source": [
    "# supports sub classing\n",
    "class f(EG):\n",
    "    pass"
   ]
  },
  {
   "cell_type": "code",
   "execution_count": 17,
   "id": "cheap-stability",
   "metadata": {
    "ExecuteTime": {
     "end_time": "2022-01-17T11:37:30.339471Z",
     "start_time": "2022-01-17T11:37:30.320471Z"
    }
   },
   "outputs": [
    {
     "ename": "TypeError",
     "evalue": " argument with value 2 must have type <class 'str'>",
     "output_type": "error",
     "traceback": [
      "\u001b[1;31m---------------------------------------------------------------------------\u001b[0m",
      "\u001b[1;31mTypeError\u001b[0m                                 Traceback (most recent call last)",
      "\u001b[1;32m<ipython-input-17-de51204d78fe>\u001b[0m in \u001b[0;36m<module>\u001b[1;34m\u001b[0m\n\u001b[1;32m----> 1\u001b[1;33m \u001b[0mg\u001b[0m \u001b[1;33m=\u001b[0m \u001b[0mf\u001b[0m\u001b[1;33m(\u001b[0m\u001b[1;36m1\u001b[0m\u001b[1;33m,\u001b[0m\u001b[1;36m2\u001b[0m\u001b[1;33m,\u001b[0m\u001b[1;36m3\u001b[0m\u001b[1;33m)\u001b[0m\u001b[1;33m\u001b[0m\u001b[1;33m\u001b[0m\u001b[0m\n\u001b[0m",
      "\u001b[1;32m<ipython-input-12-019d508af2e0>\u001b[0m in \u001b[0;36m__call__\u001b[1;34m(cls, *args, **kwargs)\u001b[0m\n\u001b[0;32m     11\u001b[0m         \u001b[1;32mfor\u001b[0m \u001b[0mi\u001b[0m\u001b[1;33m,\u001b[0m\u001b[0marg\u001b[0m \u001b[1;32min\u001b[0m \u001b[0menumerate\u001b[0m\u001b[1;33m(\u001b[0m\u001b[0margs\u001b[0m\u001b[1;33m)\u001b[0m\u001b[1;33m:\u001b[0m\u001b[1;33m\u001b[0m\u001b[1;33m\u001b[0m\u001b[0m\n\u001b[0;32m     12\u001b[0m             \u001b[0mparam\u001b[0m \u001b[1;33m=\u001b[0m \u001b[0mparams\u001b[0m\u001b[1;33m[\u001b[0m\u001b[0mi\u001b[0m\u001b[1;33m]\u001b[0m\u001b[1;33m\u001b[0m\u001b[1;33m\u001b[0m\u001b[0m\n\u001b[1;32m---> 13\u001b[1;33m             \u001b[0mTyped\u001b[0m\u001b[1;33m.\u001b[0m\u001b[0m_check_param_arg\u001b[0m\u001b[1;33m(\u001b[0m\u001b[0mparam\u001b[0m\u001b[1;33m,\u001b[0m \u001b[0marg\u001b[0m\u001b[1;33m)\u001b[0m\u001b[1;33m\u001b[0m\u001b[1;33m\u001b[0m\u001b[0m\n\u001b[0m\u001b[0;32m     14\u001b[0m \u001b[1;33m\u001b[0m\u001b[0m\n\u001b[0;32m     15\u001b[0m         \u001b[1;31m#check the kwargs\u001b[0m\u001b[1;33m\u001b[0m\u001b[1;33m\u001b[0m\u001b[1;33m\u001b[0m\u001b[0m\n",
      "\u001b[1;32m<ipython-input-12-019d508af2e0>\u001b[0m in \u001b[0;36m_check_param_arg\u001b[1;34m(param, arg)\u001b[0m\n\u001b[0;32m     23\u001b[0m             \u001b[1;32mpass\u001b[0m\u001b[1;33m\u001b[0m\u001b[1;33m\u001b[0m\u001b[0m\n\u001b[0;32m     24\u001b[0m         \u001b[1;32melif\u001b[0m \u001b[0mparam\u001b[0m\u001b[1;33m.\u001b[0m\u001b[0mannotation\u001b[0m \u001b[1;33m!=\u001b[0m \u001b[0mtype\u001b[0m\u001b[1;33m(\u001b[0m\u001b[0marg\u001b[0m\u001b[1;33m)\u001b[0m\u001b[1;33m:\u001b[0m\u001b[1;33m\u001b[0m\u001b[1;33m\u001b[0m\u001b[0m\n\u001b[1;32m---> 25\u001b[1;33m             \u001b[1;32mraise\u001b[0m \u001b[0mTypeError\u001b[0m\u001b[1;33m(\u001b[0m\u001b[1;34m' argument with value {} must have type {}'\u001b[0m\u001b[1;33m.\u001b[0m\u001b[0mformat\u001b[0m\u001b[1;33m(\u001b[0m\u001b[0marg\u001b[0m\u001b[1;33m,\u001b[0m \u001b[0mparam\u001b[0m\u001b[1;33m.\u001b[0m\u001b[0mannotation\u001b[0m\u001b[1;33m)\u001b[0m\u001b[1;33m)\u001b[0m\u001b[1;33m\u001b[0m\u001b[1;33m\u001b[0m\u001b[0m\n\u001b[0m\u001b[0;32m     26\u001b[0m         \u001b[1;32melse\u001b[0m\u001b[1;33m:\u001b[0m\u001b[1;33m\u001b[0m\u001b[1;33m\u001b[0m\u001b[0m\n\u001b[0;32m     27\u001b[0m             \u001b[1;32mpass\u001b[0m\u001b[1;33m\u001b[0m\u001b[1;33m\u001b[0m\u001b[0m\n",
      "\u001b[1;31mTypeError\u001b[0m:  argument with value 2 must have type <class 'str'>"
     ]
    }
   ],
   "source": [
    "g = f(1,2,3)"
   ]
  }
 ],
 "metadata": {
  "kernelspec": {
   "display_name": "Python 3",
   "language": "python",
   "name": "python3"
  },
  "language_info": {
   "codemirror_mode": {
    "name": "ipython",
    "version": 3
   },
   "file_extension": ".py",
   "mimetype": "text/x-python",
   "name": "python",
   "nbconvert_exporter": "python",
   "pygments_lexer": "ipython3",
   "version": "3.7.9"
  },
  "toc": {
   "base_numbering": 1,
   "nav_menu": {},
   "number_sections": true,
   "sideBar": true,
   "skip_h1_title": false,
   "title_cell": "Table of Contents",
   "title_sidebar": "Contents",
   "toc_cell": false,
   "toc_position": {},
   "toc_section_display": true,
   "toc_window_display": true
  }
 },
 "nbformat": 4,
 "nbformat_minor": 5
}
