{
 "cells": [
  {
   "cell_type": "markdown",
   "id": "developed-passport",
   "metadata": {},
   "source": [
    "# SOLID Design Principles\n",
    "\n",
    "5 principles "
   ]
  },
  {
   "cell_type": "markdown",
   "id": "valid-danish",
   "metadata": {},
   "source": [
    "## Single Responsibility (Seperation of Concerns) SRP, SOC\n",
    "\n",
    "\n",
    "a class/ type should only be responsible for one thing - e.g. a Journal class is responsible for storing items of a journal. if you then wanted to have save/ load functionality, that should be handled by a seperate object. This is so if you have a bunch of types that all need to be saved, you have one central location from which you can change the code, instead of editing all of them\n",
    "\n",
    "The class should have a single reason to change, related to it's single responsibility\n",
    "\n",
    "\n",
    "antipattern:\n",
    "\n",
    "god object = class that does literally everything"
   ]
  },
  {
   "cell_type": "code",
   "execution_count": null,
   "id": "environmental-september",
   "metadata": {},
   "outputs": [],
   "source": [
    "# our journal class should have one job - to store/remove the entries, and store the number of entries.\n",
    "class Journal:\n",
    "    def __init__(self):\n",
    "        self.entries = []\n",
    "        self.count = 0\n",
    "\n",
    "    def add_entry(self, text):\n",
    "        self.entries.append(f\"{self.count}: {text}\")\n",
    "        self.count += 1\n",
    "\n",
    "    def remove_entry(self, pos):\n",
    "        del self.entries[pos]\n",
    "\n",
    "    def __str__(self):\n",
    "        return \"\\n\".join(self.entries)\n",
    "\n",
    "    # break SRP - if we add persistance to the class, we are breaking the principle that it should do only one thing. \n",
    "    \n",
    "    def save(self, filename):\n",
    "        file = open(filename, \"w\")\n",
    "        file.write(str(self))\n",
    "        file.close()\n",
    "\n",
    "    def load(self, filename):\n",
    "        pass\n",
    "\n",
    "    def load_from_web(self, uri):\n",
    "        pass\n"
   ]
  },
  {
   "cell_type": "code",
   "execution_count": null,
   "id": "thermal-consultancy",
   "metadata": {},
   "outputs": [],
   "source": [
    "# instead we add a persistance manager that does the saving (and maybe loading). this can then be used for other classes, e.g. perhaps we have a Log class or whatever.\n",
    "\n",
    "class PersistenceManager:\n",
    "    def save_to_file(journal, filename):\n",
    "        file = open(filename, \"w\")\n",
    "        file.write(str(journal))\n",
    "        file.close()\n",
    "\n",
    "\n",
    "j = Journal()\n",
    "j.add_entry(\"I cried today.\")\n",
    "j.add_entry(\"I ate a bug.\")\n",
    "print(f\"Journal entries:\\n{j}\\n\")\n",
    "\n",
    "p = PersistenceManager()\n",
    "#file = r'c:\\temp\\journal.txt'\n",
    "#p.save_to_file(j, file)\n",
    "\n",
    "# verify!\n",
    "with open(file) as fh:\n",
    "    print(fh.read())\n"
   ]
  },
  {
   "cell_type": "code",
   "execution_count": null,
   "id": "scheduled-services",
   "metadata": {},
   "outputs": [],
   "source": []
  },
  {
   "cell_type": "code",
   "execution_count": null,
   "id": "black-hudson",
   "metadata": {},
   "outputs": [],
   "source": []
  },
  {
   "cell_type": "markdown",
   "id": "tender-federation",
   "metadata": {
    "heading_collapsed": true
   },
   "source": [
    "## Open-Closed principle OCP\n",
    "\n",
    "classes should be open for extension, closed for modification. so if you have a class and you want to add some functionality, you should not modify the existing class. \n",
    "\n",
    "utilise things like abstract base classes to define common functionality, and inherit these with new classes to extend your functionality, rather than adding specific methods to one class\n"
   ]
  },
  {
   "cell_type": "code",
   "execution_count": null,
   "id": "norman-integral",
   "metadata": {
    "hidden": true
   },
   "outputs": [],
   "source": [
    "# base product classes and attrs\n",
    "\n",
    "from enum import Enum\n",
    "\n",
    "class Color(Enum):\n",
    "    RED = 1\n",
    "    GREEN = 2\n",
    "    BLUE = 3\n",
    "\n",
    "\n",
    "class Size(Enum):\n",
    "    SMALL = 1\n",
    "    MEDIUM = 2\n",
    "    LARGE = 3\n",
    "\n",
    "\n",
    "class Product:\n",
    "    def __init__(self, name, color, size):\n",
    "        self.name = name\n",
    "        self.color = color\n",
    "        self.size = size\n"
   ]
  },
  {
   "cell_type": "code",
   "execution_count": null,
   "id": "central-month",
   "metadata": {
    "hidden": true
   },
   "outputs": [],
   "source": [
    "# this is a bad example - we have to add a function every time we want a new filter, and the more criteria we have, the more functions we are going to have. will get crazy\n",
    "\n",
    "class ProductFilter:\n",
    "    def filter_by_color(self, products, color):\n",
    "        for p in products:\n",
    "            if p.color == color: yield p\n",
    "\n",
    "    def filter_by_size(self, products, size):\n",
    "        for p in products:\n",
    "            if p.size == size: yield p\n",
    "\n",
    "    def filter_by_size_and_color(self, products, size, color):\n",
    "        for p in products:\n",
    "            if p.color == color and p.size == size:\n",
    "                yield p\n",
    "\n",
    "    # state space explosion\n",
    "    # 3 criteria\n",
    "    # c s w cs sw cw csw = 7 methods\n",
    "\n",
    "    # OCP = open for extension, closed for modification\n",
    "\n"
   ]
  },
  {
   "cell_type": "code",
   "execution_count": null,
   "id": "recognized-description",
   "metadata": {
    "hidden": true
   },
   "outputs": [],
   "source": [
    "# instead, we want to define two base classes to inherit from. these have methods to check for if a condition is satisfied, and a filter method that will take our specification and return the items that satisfy it\n",
    "\n",
    "# this way we can define generic classes like AndSpecification, and use this to combine base specs like colour+size etc.\n",
    "\n",
    "class Specification:\n",
    "    def is_satisfied(self, item):\n",
    "        pass\n",
    "\n",
    "    # and operator makes life easier\n",
    "    def __and__(self, other):\n",
    "        return AndSpecification(self, other)\n",
    "\n",
    "\n",
    "class Filter:\n",
    "    def filter(self, items, spec):\n",
    "        pass"
   ]
  },
  {
   "cell_type": "code",
   "execution_count": null,
   "id": "ordered-score",
   "metadata": {
    "hidden": true
   },
   "outputs": [],
   "source": [
    "class ColorSpecification(Specification):\n",
    "    def __init__(self, color):\n",
    "        self.color = color\n",
    "\n",
    "    def is_satisfied(self, item):\n",
    "        return item.color == self.color\n",
    "\n",
    "\n",
    "class SizeSpecification(Specification):\n",
    "    def __init__(self, size):\n",
    "        self.size = size\n",
    "\n",
    "    def is_satisfied(self, item):\n",
    "        return item.size == self.size\n",
    "\n",
    "# this would be a bad way to do it, because what if we want to combine >2 specs?\n",
    "    \n",
    "# class AndSpecification(Specification):\n",
    "#     def __init__(self, spec1, spec2):\n",
    "#         self.spec2 = spec2\n",
    "#         self.spec1 = spec1\n",
    "#\n",
    "#     def is_satisfied(self, item):\n",
    "#         return self.spec1.is_satisfied(item) and \\\n",
    "#                self.spec2.is_satisfied(item)\n",
    "\n",
    "class AndSpecification(Specification):\n",
    "    def __init__(self, *args):\n",
    "        self.args = args\n",
    "\n",
    "    # here we use the map function to map each of the ags to the specification function. we wrap it in all() to return those that were true for all specifications\n",
    "    def is_satisfied(self, item):\n",
    "        return all(map(\n",
    "            lambda spec: spec.is_satisfied(item), self.args))\n",
    "\n",
    "# so we give our filter class a list of items, and a specification class that will return a true/false for those that are satisfied.\n",
    "class BetterFilter(Filter):\n",
    "    def filter(self, items, spec):\n",
    "        for item in items:\n",
    "            if spec.is_satisfied(item):\n",
    "                yield item"
   ]
  },
  {
   "cell_type": "code",
   "execution_count": null,
   "id": "stainless-amino",
   "metadata": {
    "hidden": true
   },
   "outputs": [],
   "source": [
    "# this is the example using the bad ones\n",
    "apple = Product('Apple', Color.GREEN, Size.SMALL)\n",
    "tree = Product('Tree', Color.GREEN, Size.LARGE)\n",
    "house = Product('House', Color.BLUE, Size.LARGE)\n",
    "\n",
    "products = [apple, tree, house]\n",
    "\n",
    "pf = ProductFilter()\n",
    "print('Green products (old):')\n",
    "for p in pf.filter_by_color(products, Color.GREEN):\n",
    "    print(f' - {p.name} is green')\n"
   ]
  },
  {
   "cell_type": "code",
   "execution_count": null,
   "id": "supposed-invitation",
   "metadata": {
    "hidden": true
   },
   "outputs": [],
   "source": [
    "#this is the example of the better one\n",
    "bf = BetterFilter()\n",
    "\n",
    "print('Green products (new):')\n",
    "green = ColorSpecification(Color.GREEN)\n",
    "for p in bf.filter(products, green):\n",
    "    print(f' - {p.name} is green')\n",
    "\n",
    "print('Large products:')\n",
    "large = SizeSpecification(Size.LARGE)\n",
    "for p in bf.filter(products, large):\n",
    "    print(f' - {p.name} is large')\n",
    "\n",
    "print('Large blue items:')\n",
    "# large_blue = AndSpecification(large, ColorSpecification(Color.BLUE))\n",
    "large_blue = large & ColorSpecification(Color.BLUE)\n",
    "for p in bf.filter(products, large_blue):\n",
    "    print(f' - {p.name} is large and blue')"
   ]
  },
  {
   "cell_type": "markdown",
   "id": "retired-appeal",
   "metadata": {},
   "source": [
    "## Liskov substitution principle LSP\n",
    "\n",
    "if you have some interface that takes some kind of base class, you should be able to stick a derived class in there and everything should still work"
   ]
  },
  {
   "cell_type": "code",
   "execution_count": null,
   "id": "operational-community",
   "metadata": {},
   "outputs": [],
   "source": [
    "# here we define a base class REctangle, with properties width and height\n",
    "\n",
    "class Rectangle:\n",
    "    def __init__(self, width, height):\n",
    "        self._height = height\n",
    "        self._width = width\n",
    "\n",
    "    @property\n",
    "    def area(self):\n",
    "        return self._width * self._height\n",
    "\n",
    "    def __str__(self):\n",
    "        return f'Width: {self.width}, height: {self.height}'\n",
    "\n",
    "    @property\n",
    "    def width(self):\n",
    "        return self._width\n",
    "\n",
    "    @width.setter\n",
    "    def width(self, value):\n",
    "        self._width = value\n",
    "\n",
    "    @property\n",
    "    def height(self):\n",
    "        return self._height\n",
    "\n",
    "    @height.setter\n",
    "    def height(self, value):\n",
    "        self._height = value\n",
    "\n"
   ]
  },
  {
   "cell_type": "code",
   "execution_count": null,
   "id": "direct-lyric",
   "metadata": {},
   "outputs": [],
   "source": [
    "# we then subclass it with the square - since we know that the sides must be the same, then we force that if we change the height then the width must change. However this will fuck up our use_it function below, since that was already using the rectangle class.\n",
    "\n",
    "class Square(Rectangle):\n",
    "    def __init__(self, size):\n",
    "        Rectangle.__init__(self, size, size)\n",
    "\n",
    "    @Rectangle.width.setter\n",
    "    def width(self, value):\n",
    "        _width = _height = value\n",
    "\n",
    "    @Rectangle.height.setter\n",
    "    def height(self, value):\n",
    "        _width = _height = value\n",
    "\n",
    "\n"
   ]
  },
  {
   "cell_type": "code",
   "execution_count": null,
   "id": "actual-definition",
   "metadata": {},
   "outputs": [],
   "source": [
    "def use_it(rc):\n",
    "    w = rc.width\n",
    "    rc.height = 10  # unpleasant side effect\n",
    "    expected = int(w * 10)\n",
    "    print(f'Expected an area of {expected}, got {rc.area}')\n",
    "\n",
    "\n",
    "rc = Rectangle(2, 3)\n",
    "use_it(rc)\n",
    "\n",
    "sq = Square(5)\n",
    "use_it(sq)\n"
   ]
  },
  {
   "cell_type": "markdown",
   "id": "parliamentary-korea",
   "metadata": {},
   "source": [
    "in the above example if we wanted to fix this, we dont even really need a square class. we can just use rectangle and add a boolean that says true if square or not. or just yeet the setters in square"
   ]
  },
  {
   "cell_type": "markdown",
   "id": "multiple-comfort",
   "metadata": {
    "heading_collapsed": true
   },
   "source": [
    "## interface segregation principle (ISP)\n",
    "\n",
    "we don't want too many methods in one interface, it may be problematic as you will force subclasses to define methods that they do not need/ are not applicable.\n"
   ]
  },
  {
   "cell_type": "code",
   "execution_count": null,
   "id": "weird-soundtrack",
   "metadata": {
    "hidden": true
   },
   "outputs": [],
   "source": [
    "from abc import abstractmethod\n",
    "\n",
    "# this is a bad example - what if we have an old printer that does not able to scan? we will still have to define a scan method- even if we raise an error they will still see a .scan() on the api and it can be messy// confusing\n",
    "\n",
    "\n",
    "class Machine:\n",
    "    def print(self, document):\n",
    "        raise NotImplementedError()\n",
    "\n",
    "    def fax(self, document):\n",
    "        raise NotImplementedError()\n",
    "\n",
    "    def scan(self, document):\n",
    "        raise NotImplementedError()\n",
    "\n",
    "\n",
    "# ok if you need a multifunction device\n",
    "class MultiFunctionPrinter(Machine):\n",
    "    def print(self, document):\n",
    "        pass\n",
    "\n",
    "    def fax(self, document):\n",
    "        pass\n",
    "\n",
    "    def scan(self, document):\n",
    "        pass\n",
    "\n",
    "\n",
    "class OldFashionedPrinter(Machine):\n",
    "    def print(self, document):\n",
    "        # ok - print stuff\n",
    "        pass\n",
    "\n",
    "    def fax(self, document):\n",
    "        pass  # do-nothing\n",
    "\n",
    "    def scan(self, document):\n",
    "        \"\"\"Not supported!\"\"\"\n",
    "        raise NotImplementedError('Printer cannot scan!')\n",
    "\n",
    "\n",
    "printer = OldFashionedPrinter()\n",
    "printer.fax(123)  # nothing happens\n",
    "printer.scan(123)  # oops!\n"
   ]
  },
  {
   "cell_type": "code",
   "execution_count": null,
   "id": "demanding-marsh",
   "metadata": {
    "hidden": true
   },
   "outputs": [],
   "source": [
    "#instead it is better to have one abc per thing, e.g. printer, scanner, etc.\n",
    "class Printer:\n",
    "    @abstractmethod\n",
    "    def print(self, document): pass\n",
    "\n",
    "\n",
    "class Scanner:\n",
    "    @abstractmethod\n",
    "    def scan(self, document): pass\n",
    "# same for Fax, etc.\n"
   ]
  },
  {
   "cell_type": "code",
   "execution_count": null,
   "id": "timely-replica",
   "metadata": {
    "hidden": true
   },
   "outputs": [],
   "source": [
    "\n",
    "# we can then define subclasses that inherit whatever pieces they need\n",
    "class MyPrinter(Printer):\n",
    "    def print(self, document):\n",
    "        print(document)\n",
    "\n",
    "class Photocopier(Printer, Scanner):\n",
    "    def print(self, document):\n",
    "        print(document)\n",
    "\n",
    "    def scan(self, document):\n",
    "        pass  # something meaningful\n",
    "\n",
    "#or we can even define new base classes that inherit the single base classes and re-overwrite the abstract methods. i am not sure why you would want to do this over just inheriting from the base classes though?\n",
    "class MultiFunctionDevice(Printer, Scanner):  # , Fax, etc\n",
    "    @abstractmethod\n",
    "    def print(self, document):\n",
    "        pass\n",
    "\n",
    "    @abstractmethod\n",
    "    def scan(self, document):\n",
    "        pass\n",
    "\n",
    "\n",
    "class MultiFunctionMachine(MultiFunctionDevice):\n",
    "    def __init__(self, printer, scanner):\n",
    "        self.printer = printer\n",
    "        self.scanner = scanner\n",
    "\n",
    "    def print(self, document):\n",
    "        self.printer.print(document)\n",
    "\n",
    "    def scan(self, document):\n",
    "        self.scanner.scan(document)"
   ]
  },
  {
   "cell_type": "markdown",
   "id": "ongoing-judge",
   "metadata": {
    "heading_collapsed": true
   },
   "source": [
    "## Dependency inversion principle (DIP)\n",
    "\n",
    "high level modules should not depend on low level modules, they should depend on abstractions (ABCs)"
   ]
  },
  {
   "cell_type": "code",
   "execution_count": null,
   "id": "circular-payment",
   "metadata": {
    "hidden": true
   },
   "outputs": [],
   "source": [
    "# this is what you should not do - the research is dependent on the relationships stored in the Relationships class- if we change this because we actually want to store them in a database, or store in a flat file or whatever, then our research class will be fucked as it is expecting the list/ tuple structure. "
   ]
  },
  {
   "cell_type": "code",
   "execution_count": 1,
   "id": "handled-longer",
   "metadata": {
    "ExecuteTime": {
     "end_time": "2021-12-24T11:08:20.856460Z",
     "start_time": "2021-12-24T11:08:20.833740Z"
    },
    "hidden": true
   },
   "outputs": [],
   "source": [
    "from abc import abstractmethod\n",
    "from enum import Enum\n",
    "\n",
    "\n",
    "class Relationship(Enum):\n",
    "    PARENT = 0\n",
    "    CHILD = 1\n",
    "    SIBLING = 2\n",
    "\n",
    "\n",
    "class Person:\n",
    "    def __init__(self, name):\n",
    "        self.name = name\n",
    "\n",
    "\n",
    "\n",
    "class Relationships:  # low-level\n",
    "    relations = []\n",
    "\n",
    "    def add_parent_and_child(self, parent, child):\n",
    "        self.relations.append((parent, Relationship.PARENT, child))\n",
    "        self.relations.append((child, Relationship.PARENT, parent))\n",
    "            \n",
    "    def find_all_children_of(self, name):\n",
    "        for r in self.relations:\n",
    "            if r[0].name == name and r[1] == Relationship.PARENT:\n",
    "                yield r[2].name\n",
    "                \n",
    "class Research:\n",
    "    # dependency on a low-level module directly\n",
    "    # bad because strongly dependent on e.g. storage type\n",
    "\n",
    "     #     # high-level: find all of john's children\n",
    "    def __init__(self, relationships):\n",
    "        relations = relationships.relations\n",
    "        for r in relations:\n",
    "            if r[0].name == 'John' and r[1] == Relationship.PARENT:\n",
    "                print(f'John has a child called {r[2].name}.')"
   ]
  },
  {
   "cell_type": "code",
   "execution_count": 2,
   "id": "copyrighted-minister",
   "metadata": {
    "ExecuteTime": {
     "end_time": "2021-12-24T11:08:24.692630Z",
     "start_time": "2021-12-24T11:08:24.653665Z"
    },
    "hidden": true
   },
   "outputs": [
    {
     "name": "stdout",
     "output_type": "stream",
     "text": [
      "John has a child called Chris.\n",
      "John has a child called Matt.\n"
     ]
    },
    {
     "data": {
      "text/plain": [
       "<__main__.Research at 0x2672b26c188>"
      ]
     },
     "execution_count": 2,
     "metadata": {},
     "output_type": "execute_result"
    }
   ],
   "source": [
    "\n",
    "parent = Person('John')\n",
    "child1 = Person('Chris')\n",
    "child2 = Person('Matt')\n",
    "\n",
    "# low-level module\n",
    "relationships = Relationships()\n",
    "relationships.add_parent_and_child(parent, child1)\n",
    "relationships.add_parent_and_child(parent, child2)\n",
    "\n",
    "Research(relationships)"
   ]
  },
  {
   "cell_type": "markdown",
   "id": "advisory-midwest",
   "metadata": {
    "hidden": true
   },
   "source": [
    "instead we define a relationship browser base class, with method(s) we will want to use in our research. this way we define how the function works on the relationships class, and if the storage structure changes, we change the function there and any downstream dependencies will not know the difference.\n",
    "\n",
    "what i don't get is how this does not break the single responsibility principle? Should we not have a seperate class for the relationships and the search methods?"
   ]
  },
  {
   "cell_type": "code",
   "execution_count": null,
   "id": "placed-discipline",
   "metadata": {
    "hidden": true
   },
   "outputs": [],
   "source": [
    "class RelationshipBrowser:\n",
    "    @abstractmethod\n",
    "    def find_all_children_of(self, name): pass\n",
    "\n",
    "\n",
    "class Relationships(RelationshipBrowser):  # low-level\n",
    "    relations = []\n",
    "\n",
    "    def add_parent_and_child(self, parent, child):\n",
    "        self.relations.append((parent, Relationship.PARENT, child))\n",
    "        self.relations.append((child, Relationship.PARENT, parent))\n",
    "            \n",
    "    def find_all_children_of(self, name):\n",
    "        for r in self.relations:\n",
    "            if r[0].name == name and r[1] == Relationship.PARENT:\n",
    "                yield r[2].name\n",
    "                \n",
    "                "
   ]
  },
  {
   "cell_type": "code",
   "execution_count": null,
   "id": "governing-spider",
   "metadata": {
    "hidden": true
   },
   "outputs": [],
   "source": [
    "class Research:\n",
    "    def __init__(self, browser):\n",
    "        for p in browser.find_all_children_of(\"John\"):\n",
    "            print(f'John has a child called {p}')\n",
    "\n",
    "parent = Person('John')\n",
    "child1 = Person('Chris')\n",
    "child2 = Person('Matt')\n",
    "\n",
    "# low-level module\n",
    "relationships = Relationships()\n",
    "relationships.add_parent_and_child(parent, child1)\n",
    "relationships.add_parent_and_child(parent, child2)\n",
    "\n",
    "Research(relationships)"
   ]
  },
  {
   "cell_type": "markdown",
   "id": "suited-craps",
   "metadata": {
    "heading_collapsed": true
   },
   "source": [
    "# Gamma Categorisation\n",
    "\n",
    "design patterns split into 3 categories\n",
    "\n",
    " 1) Creational Patterns\n",
    " > deal with the creation of objects\n",
    " \n",
    " > Explicit vs Implicit\n",
    " \n",
    " > Wholesale (one line) vs piecewise (step by step)\n",
    " \n",
    " 2) Structural Patterns\n",
    " > concerned with the structure (e.g. class members)\n",
    " \n",
    " > many patterns are wrappers that mimic the underlying class\n",
    " \n",
    " > stress the importance of good api design\n",
    " \n",
    " 3) Behavioral Patterns\n",
    " \n",
    " > they are all different, no central theme\n",
    " \n",
    " > typically unique in approach"
   ]
  },
  {
   "cell_type": "markdown",
   "id": "accepting-pottery",
   "metadata": {},
   "source": [
    "# Builder"
   ]
  },
  {
   "cell_type": "markdown",
   "id": "owned-living",
   "metadata": {},
   "source": [
    "some objects are simple and can be initialised with one argument. initialising with 10 args is unweildy. instead opt for picewise constriction. \n",
    "\n",
    "\n",
    "builder is api that you can use to construct object instead to make it more succinct/ easy"
   ]
  },
  {
   "cell_type": "markdown",
   "id": "widespread-utility",
   "metadata": {
    "heading_collapsed": true
   },
   "source": [
    "## builder"
   ]
  },
  {
   "cell_type": "markdown",
   "id": "emerging-police",
   "metadata": {
    "hidden": true
   },
   "source": [
    "imagine we want to create html code"
   ]
  },
  {
   "cell_type": "code",
   "execution_count": null,
   "id": "radio-portland",
   "metadata": {
    "hidden": true
   },
   "outputs": [],
   "source": [
    "\n",
    "# if you want to build a simple HTML paragraph using a list\n",
    "hello = 'hello'\n",
    "parts = ['<p>', hello, '</p>']\n",
    "print(''.join(parts))\n",
    "\n",
    "# now I want an HTML list with 2 words in it\n",
    "words = ['hello', 'world']\n",
    "parts = ['<ul>']\n",
    "for w in words:\n",
    "    parts.append(f'  <li>{w}</li>')\n",
    "parts.append('</ul>')\n",
    "print('\\n'.join(parts))"
   ]
  },
  {
   "cell_type": "code",
   "execution_count": 4,
   "id": "loaded-lodging",
   "metadata": {
    "ExecuteTime": {
     "end_time": "2022-01-04T15:55:59.398322Z",
     "start_time": "2022-01-04T15:55:59.381146Z"
    },
    "hidden": true
   },
   "outputs": [
    {
     "name": "stdout",
     "output_type": "stream",
     "text": [
      "<p>hello</p>\n"
     ]
    }
   ],
   "source": [
    "text = 'hello'\n",
    "parts = ['<p>', text, '</p>']\n",
    "print(''.join(parts))"
   ]
  },
  {
   "cell_type": "code",
   "execution_count": 5,
   "id": "fuzzy-speech",
   "metadata": {
    "ExecuteTime": {
     "end_time": "2022-01-04T16:02:23.124859Z",
     "start_time": "2022-01-04T16:02:23.097844Z"
    },
    "hidden": true
   },
   "outputs": [],
   "source": [
    "class HtmlElement:\n",
    "    indent_size = 2\n",
    "\n",
    "    def __init__(self, name=\"\", text=\"\"):\n",
    "        self.name = name\n",
    "        self.text = text\n",
    "        self.elements = []\n",
    "\n",
    "    def __str(self, indent):\n",
    "        lines = []\n",
    "        i = ' ' * (indent * self.indent_size)\n",
    "        lines.append(f'{i}<{self.name}>')\n",
    "\n",
    "        if self.text:\n",
    "            i1 = ' ' * ((indent + 1) * self.indent_size)\n",
    "            lines.append(f'{i1}{self.text}')\n",
    "\n",
    "        for e in self.elements:\n",
    "            lines.append(e.__str(indent + 1))\n",
    "\n",
    "        lines.append(f'{i}</{self.name}>')\n",
    "        return '\\n'.join(lines)\n",
    "\n",
    "    def __str__(self):\n",
    "        return self.__str(0)\n",
    "    \n",
    "    # we can add the create method here and expose the builder class directly\n",
    "    @staticmethod\n",
    "    def create(name):\n",
    "        return HtmlBuilder(name)\n",
    "\n",
    "\n",
    "class HtmlBuilder:\n",
    "    #root is the thing we are building up\n",
    "    __root = HtmlElement()\n",
    "\n",
    "    def __init__(self, root_name):\n",
    "        self.root_name = root_name\n",
    "        self.__root.name = root_name\n",
    "\n",
    "    # not fluent\n",
    "    def add_child(self, child_name, child_text):\n",
    "        self.__root.elements.append(\n",
    "            HtmlElement(child_name, child_text)\n",
    "        )\n",
    "\n",
    "    # fluent - this is so we can chain together add_ commands\n",
    "    def add_child_fluent(self, child_name, child_text):\n",
    "        self.__root.elements.append(\n",
    "            HtmlElement(child_name, child_text)\n",
    "        )\n",
    "        return self\n",
    "\n",
    "    def clear(self):\n",
    "        self.__root = HtmlElement(name=self.root_name)\n",
    "\n",
    "    def __str__(self):\n",
    "        return str(self.__root)\n",
    "\n"
   ]
  },
  {
   "cell_type": "code",
   "execution_count": 8,
   "id": "characteristic-newton",
   "metadata": {
    "ExecuteTime": {
     "end_time": "2022-01-04T16:04:03.230568Z",
     "start_time": "2022-01-04T16:04:03.215569Z"
    },
    "hidden": true,
    "scrolled": false
   },
   "outputs": [
    {
     "name": "stdout",
     "output_type": "stream",
     "text": [
      "Ordinary builder:\n",
      "<ul>\n",
      "  <li>\n",
      "    hello\n",
      "  </li>\n",
      "  <li>\n",
      "    world\n",
      "  </li>\n",
      "  <li>\n",
      "    hello\n",
      "  </li>\n",
      "  <li>\n",
      "    world\n",
      "  </li>\n",
      "</ul>\n"
     ]
    }
   ],
   "source": [
    "\n",
    "\n",
    "# ordinary non-fluent builder\n",
    "builder = HtmlBuilder('ul')\n",
    "\n",
    "#builder = HtmlElement.create('ul')\n",
    "builder.add_child('li', 'hello')\n",
    "builder.add_child('li', 'world')\n",
    "print('Ordinary builder:')\n",
    "print(builder)\n"
   ]
  },
  {
   "cell_type": "code",
   "execution_count": 9,
   "id": "excessive-short",
   "metadata": {
    "ExecuteTime": {
     "end_time": "2022-01-04T16:04:04.815694Z",
     "start_time": "2022-01-04T16:04:04.799686Z"
    },
    "hidden": true
   },
   "outputs": [
    {
     "name": "stdout",
     "output_type": "stream",
     "text": [
      "Fluent builder:\n",
      "<ul>\n",
      "  <li>\n",
      "    hello\n",
      "  </li>\n",
      "  <li>\n",
      "    world\n",
      "  </li>\n",
      "</ul>\n"
     ]
    }
   ],
   "source": [
    "\n",
    "# fluent builder\n",
    "builder.clear()\n",
    "builder.add_child_fluent('li', 'hello').add_child_fluent('li', 'world')\n",
    "print('Fluent builder:')\n",
    "print(builder)\n"
   ]
  },
  {
   "cell_type": "markdown",
   "id": "heard-addiction",
   "metadata": {
    "heading_collapsed": true
   },
   "source": [
    "## builder facets\n",
    "what if a problem is so complicated that we need multiple builders?\n",
    "\n",
    "in this example we will build a person"
   ]
  },
  {
   "cell_type": "code",
   "execution_count": 11,
   "id": "floating-modern",
   "metadata": {
    "ExecuteTime": {
     "end_time": "2022-01-04T16:18:00.519324Z",
     "start_time": "2022-01-04T16:18:00.499329Z"
    },
    "code_folding": [],
    "hidden": true
   },
   "outputs": [],
   "source": [
    "class Person:\n",
    "    def __init__(self):\n",
    "        print('Creating an instance of Person')\n",
    "        # address\n",
    "        self.street_address = None\n",
    "        self.postcode = None\n",
    "        self.city = None\n",
    "        # employment info\n",
    "        self.company_name = None\n",
    "        self.position = None\n",
    "        self.annual_income = None\n",
    "\n",
    "    def __str__(self) -> str:\n",
    "        return f'Address: {self.street_address}, {self.postcode}, {self.city}\\n' +\\\n",
    "            f'Employed at {self.company_name} as a {self.postcode} earning {self.annual_income}'\n",
    "\n",
    "# this is our base class\n",
    "#if it is initialised with no person, then we want to start with a blank person\n",
    "class PersonBuilder:  # facade\n",
    "    def __init__(self, person=None):\n",
    "        if person is None:\n",
    "            self.person = Person()\n",
    "        else:\n",
    "            self.person = person\n",
    "\n",
    "    @property\n",
    "    def lives(self):\n",
    "        return PersonAddressBuilder(self.person)\n",
    "\n",
    "    @property\n",
    "    def works(self):\n",
    "        return PersonJobBuilder(self.person)\n",
    "\n",
    "    def build(self):\n",
    "        return self.person\n",
    "\n",
    "# we want a sub builder for the job\n",
    "# in this instance we don't want to create a new person, we want to super the base\n",
    "class PersonJobBuilder(PersonBuilder):\n",
    "    def __init__(self, person):\n",
    "        super().__init__(person)\n",
    "\n",
    "    def at(self, company_name):\n",
    "        self.person.company_name = company_name\n",
    "        return self\n",
    "\n",
    "    def as_a(self, position):\n",
    "        self.person.position = position\n",
    "        return self\n",
    "\n",
    "    def earning(self, annual_income):\n",
    "        self.person.annual_income = annual_income\n",
    "        return self\n",
    "\n",
    "# we want a sub builder for the address\n",
    "class PersonAddressBuilder(PersonBuilder):\n",
    "    def __init__(self, person):\n",
    "        super().__init__(person)\n",
    "\n",
    "    def at(self, street_address):\n",
    "        self.person.street_address = street_address\n",
    "        return self\n",
    "\n",
    "    def with_postcode(self, postcode):\n",
    "        self.person.postcode = postcode\n",
    "        return self\n",
    "\n",
    "    def in_city(self, city):\n",
    "        self.person.city = city\n",
    "        return self\n",
    "\n"
   ]
  },
  {
   "cell_type": "code",
   "execution_count": 26,
   "id": "wired-cabinet",
   "metadata": {
    "ExecuteTime": {
     "end_time": "2022-01-04T16:24:15.839999Z",
     "start_time": "2022-01-04T16:24:15.826968Z"
    },
    "hidden": true,
    "scrolled": true
   },
   "outputs": [
    {
     "name": "stdout",
     "output_type": "stream",
     "text": [
      "Creating an instance of Person\n",
      "Address: 123 London Road, SW12BC, London\n",
      "Employed at Fabrikam as a SW12BC earning 123000\n"
     ]
    }
   ],
   "source": [
    "# we create a blank person\n",
    "pb = PersonBuilder()\n",
    "\n",
    "# we build our person using our builders\n",
    "\n",
    "\n",
    "p = pb\\\n",
    "    .lives\\\n",
    "        .at('123 London Road')\\\n",
    "        .in_city('London')\\\n",
    "        .with_postcode('SW12BC')\\\n",
    "    .works\\\n",
    "        .at('Fabrikam')\\\n",
    "        .as_a('Engineer')\\\n",
    "        .earning(123000)\\\n",
    "    .build()\n",
    "print(p)\n",
    "\n"
   ]
  },
  {
   "cell_type": "code",
   "execution_count": 27,
   "id": "usual-april",
   "metadata": {
    "ExecuteTime": {
     "end_time": "2022-01-04T16:24:16.885681Z",
     "start_time": "2022-01-04T16:24:16.877009Z"
    },
    "hidden": true
   },
   "outputs": [
    {
     "name": "stdout",
     "output_type": "stream",
     "text": [
      "<__main__.PersonAddressBuilder object at 0x000002672D0D5C48>\n",
      "Address: Works still?, SW12BC, London\n",
      "Employed at Fabrikam as a SW12BC earning 123000\n"
     ]
    }
   ],
   "source": [
    "# we access the address builder using the .lives attribute. since we are initing it with the existing self.person, it is not overwriting our person\n",
    "print(pb.lives)\n",
    "\n",
    "# since we are inheriting from the base class, we can do weird stuff like this- is this bad? should it be allowed to access these methods?\n",
    "pp = pb.lives.lives.lives.lives.lives.lives.lives.at('Works still?').build()\n",
    "print(pp)"
   ]
  },
  {
   "cell_type": "code",
   "execution_count": 13,
   "id": "arbitrary-seventh",
   "metadata": {
    "ExecuteTime": {
     "end_time": "2022-01-04T16:18:08.223186Z",
     "start_time": "2022-01-04T16:18:08.210197Z"
    },
    "hidden": true
   },
   "outputs": [
    {
     "name": "stdout",
     "output_type": "stream",
     "text": [
      "Creating an instance of Person\n",
      "Address: None, None, None\n",
      "Employed at None as a None earning None\n"
     ]
    }
   ],
   "source": [
    "person2 = PersonBuilder().build()\n",
    "print(person2)\n"
   ]
  },
  {
   "cell_type": "markdown",
   "id": "latter-unknown",
   "metadata": {},
   "source": [
    "## builder inheritance\n",
    "\n",
    "the above is bad since it breaks the open closed principle. if we add a new builder, we need to edit the base class to add it\n",
    "\n",
    "\n",
    "\n",
    "\n"
   ]
  },
  {
   "cell_type": "code",
   "execution_count": null,
   "id": "laden-employer",
   "metadata": {},
   "outputs": [],
   "source": [
    "class Person:\n",
    "    def __init__(self):\n",
    "        self.name = None\n",
    "        self.position = None\n",
    "        self.date_of_birth = None\n",
    "\n",
    "    def __str__(self):\n",
    "        return f'{self.name} born on {self.date_of_birth} works as a {self.position}'\n",
    "\n",
    "    @staticmethod\n",
    "    def new():\n",
    "        return PersonBuilder()\n",
    "\n",
    "# this does nothing more than initialise a person, and return self.person with the build method\n",
    "class PersonBuilder:\n",
    "    def __init__(self):\n",
    "        self.person = Person()\n",
    "\n",
    "    def build(self):\n",
    "        return self.person\n",
    "\n",
    "\n",
    "    \n",
    "class PersonInfoBuilder(PersonBuilder):\n",
    "    def called(self, name):\n",
    "        self.person.name = name\n",
    "        return self\n",
    "\n",
    "# we can now inherit from PersonInfoBuilder ad infinitum\n",
    "class PersonJobBuilder(PersonInfoBuilder):\n",
    "    def works_as_a(self, position):\n",
    "        self.person.position = position\n",
    "        return self\n",
    "\n",
    "\n",
    "class PersonBirthDateBuilder(PersonJobBuilder):\n",
    "    def born(self, date_of_birth):\n",
    "        self.person.date_of_birth = date_of_birth\n",
    "        return self\n",
    "\n",
    "\n"
   ]
  },
  {
   "cell_type": "code",
   "execution_count": null,
   "id": "wired-match",
   "metadata": {},
   "outputs": [],
   "source": [
    "\n",
    "# we can now init with the most derived class, and since we are cascading the inheritence, we can access the methods from the info and job builders\n",
    "\n",
    "pb = PersonBirthDateBuilder()\n",
    "me = pb\\\n",
    "    .called('Dmitri')\\\n",
    "    .works_as_a('quant')\\\n",
    "    .born('1/1/1980')\\\n",
    "    .build()  # this does NOT work in C#/C++/Java/...\n",
    "print(me)\n",
    "\n",
    "# this means that we never have to edit any of the old builders, we cans just inherit from another one."
   ]
  },
  {
   "cell_type": "markdown",
   "id": "analyzed-pizza",
   "metadata": {},
   "source": [
    "## excersise\n",
    "\n",
    "you are asked to implement the builder design pattrn for rendering simple chunks of code\n",
    "\n",
    "\n",
    "e.g.\n",
    "\n",
    "cb = CodeBuilder('Person').add_field('name', '\"\"').add_field('age', '0')\n",
    "\n",
    "\n",
    "this should create:\n",
    "\n",
    "Class Person:\n",
    "    def __init__(self):\n",
    "        self.name = ''\n",
    "        self.age = ''"
   ]
  },
  {
   "cell_type": "code",
   "execution_count": 55,
   "id": "lightweight-costa",
   "metadata": {
    "ExecuteTime": {
     "end_time": "2022-01-04T16:59:04.414829Z",
     "start_time": "2022-01-04T16:59:04.400193Z"
    },
    "code_folding": []
   },
   "outputs": [],
   "source": [
    "class ClassElement():\n",
    "    \n",
    "    def __init__(self, name, value):\n",
    "        self.name = name\n",
    "        self.value = value\n",
    "        \n",
    "    def __str__(self):\n",
    "        return('self.{} = {}'.format(name, value))\n",
    "    \n",
    "\n",
    "    \n",
    "class Class():\n",
    "    \n",
    "    def __init__(self, root_name):\n",
    "        self._root_name = root_name\n",
    "        self._attrs = []\n",
    "        self.indent = ' '\n",
    "\n",
    "    \n",
    "    def __str__(self):\n",
    "        lines = []\n",
    "        lines.append('class {}():'.format(self._root_name))\n",
    "        \n",
    "        if len(self._attrs) >0:\n",
    "            line = '{}def __init__(self'.format(self.indent*4)\n",
    "            attrs_lines = []\n",
    "            for i in self._attrs:\n",
    "                attrs_lines.append('{}self.{}= {}'.format(self.indent*8, i.name, i.value))\n",
    "                line = line + ', {} = {}'.format(i.name, i.value)\n",
    "            line = line + ('):')\n",
    "            lines.append(line)\n",
    "            lines.extend(attrs_lines)\n",
    "        else:\n",
    "            lines.append('{}pass'.format(self.indent*4))\n",
    "        \n",
    "        return('\\n'.join(lines))\n",
    "    \n",
    "    \n",
    "class CodeBuilder:\n",
    "    \n",
    "    def __init__(self, root_name):\n",
    "        self.__class = Class(root_name)\n",
    "        \n",
    "        # todo\n",
    "\n",
    "    def add_field(self,name, value):\n",
    "        self.__class._attrs.append(ClassElement(name, value))\n",
    "        return self\n",
    "\n",
    "    def __str__(self):\n",
    "        return self.__class.__str__()"
   ]
  },
  {
   "cell_type": "code",
   "execution_count": 56,
   "id": "agricultural-thriller",
   "metadata": {
    "ExecuteTime": {
     "end_time": "2022-01-04T16:59:05.764980Z",
     "start_time": "2022-01-04T16:59:05.749985Z"
    }
   },
   "outputs": [],
   "source": [
    "cb = CodeBuilder('prick')"
   ]
  },
  {
   "cell_type": "code",
   "execution_count": 57,
   "id": "nervous-radical",
   "metadata": {
    "ExecuteTime": {
     "end_time": "2022-01-04T16:59:06.034962Z",
     "start_time": "2022-01-04T16:59:06.027958Z"
    }
   },
   "outputs": [],
   "source": [
    "cb = cb.add_field('one', 1).add_field('two', 2).add_field('dgldsflkg', 'asfgtg')"
   ]
  },
  {
   "cell_type": "code",
   "execution_count": 58,
   "id": "resident-respect",
   "metadata": {
    "ExecuteTime": {
     "end_time": "2022-01-04T16:59:06.495010Z",
     "start_time": "2022-01-04T16:59:06.484012Z"
    }
   },
   "outputs": [
    {
     "name": "stdout",
     "output_type": "stream",
     "text": [
      "class prick():\n",
      "    def __init__(self, one = 1, two = 2, dgldsflkg = asfgtg):\n",
      "        self.one= 1\n",
      "        self.two= 2\n",
      "        self.dgldsflkg= asfgtg\n"
     ]
    }
   ],
   "source": [
    "print(cb)"
   ]
  },
  {
   "cell_type": "markdown",
   "id": "intellectual-messaging",
   "metadata": {},
   "source": [
    "i also added the fields to the init of the class - maybe should not have tho"
   ]
  },
  {
   "cell_type": "markdown",
   "id": "spread-paste",
   "metadata": {},
   "source": [
    "# Factories\n",
    "\n",
    "why? \n",
    "\n",
    "- Sometimes object creation logic can be v long and convoluted. maybe we want to move the logic somewhere. \n",
    "\n",
    "- \\_\\_init\\_\\_ is always called init - cannot rename to give hint on what it will do.\n",
    "\n",
    "- cannot overload it with same args with different names\n",
    "\n",
    "- can turn init into optional parameter hell\n",
    "\n",
    "- wholesale object creation (not piecewise like the builder)\n",
    "\n",
    "- create seperate method (typically static method) this is factory method design pattern\n",
    "\n",
    "- move to seperate class (factory. e.g we have class Foo, and FooFactory which creates different types of Foo objects)\n",
    "\n",
    "- hierarchy of factories corresponding to hierarchy of types -> abstract factory\n",
    "\n",
    "\n",
    "**Factory is a component responsible solely for the wholesale (not piecewise) creation of objects**\n",
    "\n",
    "\n",
    "\n",
    "\n",
    "\n"
   ]
  },
  {
   "cell_type": "markdown",
   "id": "severe-orleans",
   "metadata": {},
   "source": [
    "## Factory Method"
   ]
  },
  {
   "cell_type": "code",
   "execution_count": 59,
   "id": "fifteen-preservation",
   "metadata": {
    "ExecuteTime": {
     "end_time": "2022-01-05T15:28:21.956322Z",
     "start_time": "2022-01-05T15:28:21.934162Z"
    }
   },
   "outputs": [],
   "source": [
    "#we want a class for a point in space\n",
    "class Point:\n",
    "    def __init__(self, x, y):\n",
    "        self.x = x\n",
    "        self.y = y\n",
    "        \n",
    "##    # what if we want to allow initialising from polar coords instead? We cannot redefine innit, it wil just override it. "
   ]
  },
  {
   "cell_type": "code",
   "execution_count": 60,
   "id": "optimum-catch",
   "metadata": {
    "ExecuteTime": {
     "end_time": "2022-01-05T15:36:08.688259Z",
     "start_time": "2022-01-05T15:36:08.667297Z"
    }
   },
   "outputs": [],
   "source": [
    "# BAD EXAMPLE 2\n",
    "\n",
    "from enum import Enum\n",
    "from math import *\n",
    "\n",
    "\n",
    "class CoordinateSystem(Enum):\n",
    "    CARTESIAN = 1\n",
    "    POLAR = 2\n",
    "\n",
    "class Point:\n",
    "    # this is still not great, since it is ambiguous that a refers to x, b refers to y. Also if we want to add a new coordinate system, we will have to add a new one to our coordinateSystem class, and then modify this init. This breaks our open closed principle!\n",
    "    def __init__(self, a, b, system=CoordinateSystem.CARTESIAN):\n",
    "        if system == CoordinateSystem.CARTESIAN:\n",
    "            self.x = a\n",
    "            self.y = b\n",
    "        elif system == CoordinateSystem.POLAR:\n",
    "            self.x = a * sin(b)\n",
    "            self.y = a * cos(b)\n",
    "\n"
   ]
  },
  {
   "cell_type": "code",
   "execution_count": 63,
   "id": "likely-genesis",
   "metadata": {
    "ExecuteTime": {
     "end_time": "2022-01-05T15:37:49.119674Z",
     "start_time": "2022-01-05T15:37:49.104132Z"
    }
   },
   "outputs": [],
   "source": [
    "# here is better since we can rename the args in our static methods, \n",
    "\n",
    "class Point:\n",
    "\n",
    "    def __init__(self, x, y):\n",
    "        self.x = x\n",
    "        self.y = y\n",
    "        \n",
    "    def __str__(self):\n",
    "        return \"X: {}, Y: {}\".format(self.x, self.y)\n",
    "    @staticmethod\n",
    "    def new_cartesian_point(x, y):\n",
    "        return Point(x, y)\n",
    "\n",
    "    @staticmethod\n",
    "    def new_polar_point(rho, theta):\n",
    "        return Point(rho * sin(theta), rho * cos(theta))\n",
    "\n",
    "\n"
   ]
  },
  {
   "cell_type": "code",
   "execution_count": 64,
   "id": "found-purchase",
   "metadata": {
    "ExecuteTime": {
     "end_time": "2022-01-05T15:37:58.029895Z",
     "start_time": "2022-01-05T15:37:58.012148Z"
    },
    "scrolled": true
   },
   "outputs": [
    {
     "name": "stdout",
     "output_type": "stream",
     "text": [
      "X: 2, Y: 3 X: 0.9092974268256817, Y: -0.4161468365471424\n"
     ]
    }
   ],
   "source": [
    "# we can use the default one\n",
    "p= Point(2,3)\n",
    "\n",
    "\n",
    "# we can access the static methods without instancing the class\n",
    "p2 = Point.new_polar_point(1,2)\n",
    "\n",
    "print(p, p2)"
   ]
  },
  {
   "cell_type": "code",
   "execution_count": null,
   "id": "excellent-strand",
   "metadata": {},
   "outputs": [],
   "source": []
  },
  {
   "cell_type": "code",
   "execution_count": null,
   "id": "defined-version",
   "metadata": {},
   "outputs": [],
   "source": []
  },
  {
   "cell_type": "markdown",
   "id": "laughing-adelaide",
   "metadata": {},
   "source": [
    "## Factory "
   ]
  },
  {
   "cell_type": "code",
   "execution_count": 67,
   "id": "hidden-episode",
   "metadata": {
    "ExecuteTime": {
     "end_time": "2022-01-05T15:41:57.150946Z",
     "start_time": "2022-01-05T15:41:57.134066Z"
    }
   },
   "outputs": [],
   "source": [
    "class Point:\n",
    "    def __init__(self, x, y):\n",
    "        self.x = x\n",
    "        self.y = y\n",
    "\n",
    "    def __str__(self):\n",
    "        return f'x: {self.x}, y: {self.y}'\n",
    "\n",
    "# take out factory methods to a separate class. this way we can give different names to the args - x and y become rho and theta for the polar\n",
    "\n",
    "class PointFactory:\n",
    "    @staticmethod\n",
    "    def new_cartesian_point(x, y):\n",
    "        return Point(x, y)\n",
    "\n",
    "    @staticmethod\n",
    "    def new_polar_point(rho, theta):\n",
    "        return Point(rho * sin(theta), rho * cos(theta))\n",
    "\n",
    "\n",
    "#PROBLEM - what if the Point initialiser changes? We will also have to change the point factory\n",
    "\n",
    "# also how does client know that there is a factory that they should use? they will knot know unless you specify in documentation\n"
   ]
  },
  {
   "cell_type": "code",
   "execution_count": 68,
   "id": "radio-vertex",
   "metadata": {
    "ExecuteTime": {
     "end_time": "2022-01-05T15:41:58.662393Z",
     "start_time": "2022-01-05T15:41:58.645317Z"
    }
   },
   "outputs": [
    {
     "name": "stdout",
     "output_type": "stream",
     "text": [
      "x: 1, y: 2\n"
     ]
    }
   ],
   "source": [
    "p2 = PointFactory.new_cartesian_point(1, 2)\n",
    "print(p2)"
   ]
  },
  {
   "cell_type": "code",
   "execution_count": null,
   "id": "pharmaceutical-clone",
   "metadata": {},
   "outputs": [],
   "source": [
    "\n",
    "# or you can expose factory through the type\n",
    "p3 = Point.Factory.new_cartesian_point(5, 6)\n",
    "p4 = Point.factory.new_cartesian_point(7, 8)\n",
    "print(p1, p2, p3, p4)\n"
   ]
  },
  {
   "cell_type": "code",
   "execution_count": 69,
   "id": "weighted-lexington",
   "metadata": {
    "ExecuteTime": {
     "end_time": "2022-01-05T15:50:34.246797Z",
     "start_time": "2022-01-05T15:50:34.229196Z"
    }
   },
   "outputs": [],
   "source": [
    "\n",
    "# we can also put the factory as an inner class\n",
    "class Point:\n",
    "    def __init__(self, x, y):\n",
    "        self.x = x\n",
    "        self.y = y\n",
    "\n",
    "    def __str__(self):\n",
    "        return f'x: {self.x}, y: {self.y}'\n",
    "\n",
    "    class PointFactory:\n",
    "        #our methods don't really need to be static anymore either. this may be useful if we want to store some state in the factory, e.g we want to have some offset when calculating the polar coords\n",
    "        def new_cartesian_point(self,x, y):\n",
    "            return Point(x, y)\n",
    "\n",
    "        def new_polar_point(sef,rho, theta):\n",
    "            return Point(rho * sin(theta), rho * cos(theta))\n",
    "        \n",
    "    # we can also have an instance of the point factory class. This is more for convenience:\n",
    "    factory = PointFactory()\n",
    "    "
   ]
  },
  {
   "cell_type": "code",
   "execution_count": 70,
   "id": "distributed-trail",
   "metadata": {
    "ExecuteTime": {
     "end_time": "2022-01-05T15:51:03.528692Z",
     "start_time": "2022-01-05T15:51:03.516174Z"
    }
   },
   "outputs": [
    {
     "name": "stdout",
     "output_type": "stream",
     "text": [
      "x: 1, y: 2\n"
     ]
    }
   ],
   "source": [
    "p3 = Point.factory.new_cartesian_point(1,2)\n",
    "print(p3)"
   ]
  },
  {
   "cell_type": "markdown",
   "id": "confidential-quick",
   "metadata": {},
   "source": [
    "factories can sometimes refer to any kind of thing that manufactures an object- e.g if a lambda func is creating obects it could be described as a factory. Mostly though it is referring to a class with factory methods"
   ]
  },
  {
   "cell_type": "markdown",
   "id": "furnished-writer",
   "metadata": {},
   "source": [
    "## Abstract Factory\n",
    "\n",
    "we want to make an abstract base class for our factories. e.g. we have modellers deriving from a base modeller, we may also want modeller factories deriving from a base factory."
   ]
  },
  {
   "cell_type": "code",
   "execution_count": 71,
   "id": "destroyed-freedom",
   "metadata": {
    "ExecuteTime": {
     "end_time": "2022-01-05T15:59:37.710267Z",
     "start_time": "2022-01-05T15:59:37.697606Z"
    }
   },
   "outputs": [],
   "source": [
    "from abc import ABC\n",
    "from enum import Enum, auto\n",
    "\n",
    "# here is our abc for the drinks, and the derived classes from it \n",
    "\n",
    "class HotDrink(ABC):\n",
    "    def consume(self):\n",
    "        pass\n",
    "\n",
    "\n",
    "class Tea(HotDrink):\n",
    "    def consume(self):\n",
    "        print('This tea is nice but I\\'d prefer it with milk')\n",
    "\n",
    "\n",
    "class Coffee(HotDrink):\n",
    "    def consume(self):\n",
    "        print('This coffee is delicious')\n",
    "\n",
    "\n"
   ]
  },
  {
   "cell_type": "code",
   "execution_count": 72,
   "id": "patient-grade",
   "metadata": {
    "ExecuteTime": {
     "end_time": "2022-01-05T15:59:38.328525Z",
     "start_time": "2022-01-05T15:59:38.316562Z"
    }
   },
   "outputs": [],
   "source": [
    "# here we have our abstract factory as an abc, which mandates the prepare method\n",
    "\n",
    "class HotDrinkFactory(ABC):\n",
    "    def prepare(self, amount):\n",
    "        pass\n",
    "\n",
    "\n",
    "class TeaFactory(HotDrinkFactory):\n",
    "    # prepare is our factory method, returning instance of Tea\n",
    "    def prepare(self, amount):\n",
    "        print(f'Put in tea bag, boil water, pour {amount}ml, enjoy!')\n",
    "        return Tea()\n",
    "\n",
    "\n",
    "class CoffeeFactory(HotDrinkFactory):\n",
    "    def prepare(self, amount):\n",
    "        print(f'Grind some beans, boil water, pour {amount}ml, enjoy!')\n",
    "        return Coffee()\n"
   ]
  },
  {
   "cell_type": "code",
   "execution_count": 75,
   "id": "split-dinner",
   "metadata": {
    "ExecuteTime": {
     "end_time": "2022-01-05T16:00:36.827693Z",
     "start_time": "2022-01-05T16:00:36.810926Z"
    }
   },
   "outputs": [],
   "source": [
    "def make_drink(type):\n",
    "    if type == 'tea':\n",
    "        return TeaFactory().prepare(200)\n",
    "    \n",
    "    elif type == 'coffee':\n",
    "        return CoffeeFactory().prepare(400)\n",
    "    else:\n",
    "        return ValueError('need tea or coffee')"
   ]
  },
  {
   "cell_type": "code",
   "execution_count": 74,
   "id": "sound-trading",
   "metadata": {
    "ExecuteTime": {
     "end_time": "2022-01-05T16:00:12.923581Z",
     "start_time": "2022-01-05T16:00:10.228172Z"
    }
   },
   "outputs": [
    {
     "name": "stdout",
     "output_type": "stream",
     "text": [
      "what drink you like?tea\n",
      "Put in tea bag, boil water, pour 200ml, enjoy!\n",
      "This tea is nice but I'd prefer it with milk\n"
     ]
    }
   ],
   "source": [
    "entry = input('what drink you like?')\n",
    "drink = make_drink(entry)\n",
    "drink.consume()"
   ]
  },
  {
   "cell_type": "markdown",
   "id": "congressional-samba",
   "metadata": {},
   "source": [
    "this is ok but it is not leveraging it being abstract -we are not really using the ABC other than mandating the prepare method \n",
    "\n",
    "instead we can organise it better:"
   ]
  },
  {
   "cell_type": "code",
   "execution_count": 76,
   "id": "compound-bronze",
   "metadata": {
    "ExecuteTime": {
     "end_time": "2022-01-05T16:06:02.842982Z",
     "start_time": "2022-01-05T16:06:02.827359Z"
    }
   },
   "outputs": [],
   "source": [
    "class HotDrinkMachine:\n",
    "    class AvailableDrink(Enum):  # violates OCP, what if we want a new kind of drink? we will have to modify this.\n",
    "        COFFEE = auto()\n",
    "        TEA = auto()\n",
    "\n",
    "    factories = []\n",
    "    initialized = False\n",
    "\n",
    "    def __init__(self):\n",
    "        if not self.initialized:\n",
    "            self.initialized = True\n",
    "            # we create a factory instance of each available drink in our list\n",
    "            for d in self.AvailableDrink:\n",
    "                name = d.name[0] + d.name[1:].lower()\n",
    "                factory_name = name + 'Factory'\n",
    "                factory_instance = eval(factory_name)()\n",
    "                self.factories.append((name, factory_instance))\n",
    "\n",
    "\n",
    "\n",
    "\n",
    "\n",
    "    def make_drink(self):\n",
    "        print('Available drinks:')\n",
    "        for f in self.factories:\n",
    "            print(f[0])\n",
    "\n",
    "        s = input(f'Please pick drink (0-{len(self.factories)-1}): ')\n",
    "        \n",
    "        idx = int(s)\n",
    "        s = input(f'Specify amount: ')\n",
    "        amount = int(s)\n",
    "        return self.factories[idx][1].prepare(amount)\n",
    "\n",
    "\n"
   ]
  },
  {
   "cell_type": "code",
   "execution_count": 77,
   "id": "legislative-minneapolis",
   "metadata": {
    "ExecuteTime": {
     "end_time": "2022-01-05T16:06:12.176300Z",
     "start_time": "2022-01-05T16:06:04.809869Z"
    },
    "scrolled": true
   },
   "outputs": [
    {
     "name": "stdout",
     "output_type": "stream",
     "text": [
      "Available drinks:\n",
      "Coffee\n",
      "Tea\n",
      "Please pick drink (0-1): 0\n",
      "Specify amount: 123\n",
      "Grind some beans, boil water, pour 123ml, enjoy!\n",
      "This coffee is delicious\n"
     ]
    }
   ],
   "source": [
    "\n",
    "hdm = HotDrinkMachine()\n",
    "drink = hdm.make_drink()\n",
    "drink.consume()\n"
   ]
  },
  {
   "cell_type": "code",
   "execution_count": 78,
   "id": "consolidated-north",
   "metadata": {
    "ExecuteTime": {
     "end_time": "2022-01-05T16:07:30.111106Z",
     "start_time": "2022-01-05T16:07:30.089445Z"
    }
   },
   "outputs": [
    {
     "data": {
      "text/plain": [
       "<__main__.Coffee at 0x2672de4bf08>"
      ]
     },
     "execution_count": 78,
     "metadata": {},
     "output_type": "execute_result"
    }
   ],
   "source": [
    "drink"
   ]
  },
  {
   "cell_type": "markdown",
   "id": "challenging-experience",
   "metadata": {},
   "source": [
    "note that in the above example we actually dont really need the factory abc- if we removed it it would continue to work since our factories list in the hot drink machine does not care what type the objects are that we put in it. but it is good since it specifies the api you are expected to implement."
   ]
  },
  {
   "cell_type": "markdown",
   "id": "developing-playback",
   "metadata": {},
   "source": [
    "## exercise"
   ]
  },
  {
   "cell_type": "markdown",
   "id": "variable-force",
   "metadata": {},
   "source": [
    "You are given a class called Person. the person has 2 attributes- id and name.\n",
    "\n",
    "please implement a PersonFactory, that has a not static create_person() method, that takes a person's name, and returns a person initialised with this name and an id.\n",
    "\n",
    "the id of the person should be set as a 0 based index of the object created. so first person would have id 0, second = id 1, etc.\n"
   ]
  },
  {
   "cell_type": "code",
   "execution_count": null,
   "id": "agreed-allergy",
   "metadata": {},
   "outputs": [],
   "source": [
    "# prompt\n",
    "\n",
    "class Person:\n",
    "    def __init__(self, id, name):\n",
    "        self.id = id\n",
    "        self.name = name\n",
    "\n",
    "class PersonFactory:\n",
    "    def create_person(self, name):\n",
    "        # todo"
   ]
  },
  {
   "cell_type": "code",
   "execution_count": 89,
   "id": "binding-contamination",
   "metadata": {
    "ExecuteTime": {
     "end_time": "2022-01-05T16:57:04.920264Z",
     "start_time": "2022-01-05T16:57:04.910021Z"
    }
   },
   "outputs": [],
   "source": [
    "# my answer\n",
    "\n",
    "class Person:\n",
    "    def __init__(self, id, name):\n",
    "        self.id = id\n",
    "        self.name = name\n",
    "    def __str__(self):\n",
    "        return \"ID: {}, Name: {}\".format(self.id, self.name)\n",
    "\n",
    "        \n",
    "class PersonFactory:\n",
    "    initialized = False\n",
    "\n",
    "    def __init__(self):\n",
    "        if not self.initialized:\n",
    "            self.initialized = True\n",
    "            self._id = 0\n",
    "       \n",
    "    def create_person(self, name):\n",
    "        person = Person(self._id, name)\n",
    "        self._id +=1\n",
    "        return person\n",
    "    "
   ]
  },
  {
   "cell_type": "code",
   "execution_count": 90,
   "id": "immediate-taiwan",
   "metadata": {
    "ExecuteTime": {
     "end_time": "2022-01-05T16:57:05.653417Z",
     "start_time": "2022-01-05T16:57:05.635115Z"
    }
   },
   "outputs": [
    {
     "name": "stdout",
     "output_type": "stream",
     "text": [
      "ID: 0, Name: jack\n",
      "ID: 1, Name: jill\n",
      "ID: 2, Name: santa claus\n"
     ]
    }
   ],
   "source": [
    "factory = PersonFactory()\n",
    "p1 = factory.create_person('jack')\n",
    "print(p1)\n",
    "\n",
    "\n",
    "p2 = factory.create_person('jill')\n",
    "print(p2)\n",
    "\n",
    "\n",
    "p3 = factory.create_person('santa claus')\n",
    "print(p3)"
   ]
  },
  {
   "cell_type": "code",
   "execution_count": null,
   "id": "marine-shock",
   "metadata": {},
   "outputs": [],
   "source": [
    "# answer from the class\n",
    "from unittest import TestCase\n",
    "\n",
    "\n",
    "class Person:\n",
    "    def __init__(self, id, name):\n",
    "        self.id = id\n",
    "        self.name = name\n",
    "\n",
    "class PersonFactory:\n",
    "    id = 0\n",
    "\n",
    "    def create_person(self, name):\n",
    "        p = Person(PersonFactory.id, name)\n",
    "        PersonFactory.id += 1\n",
    "        return p\n",
    "\n",
    "class Evaluate(TestCase):\n",
    "    def test_exercise(self):\n",
    "        pf = PersonFactory()\n",
    "\n",
    "        p1 = pf.create_person('Chris')\n",
    "        self.assertEqual(p1.name, 'Chris')\n",
    "        self.assertEqual(p1.id, 0)\n",
    "\n",
    "        p2 = pf.create_person('Sarah')\n",
    "        self.assertEqual(p2.id, 1)\n"
   ]
  },
  {
   "cell_type": "code",
   "execution_count": 91,
   "id": "separated-holly",
   "metadata": {
    "ExecuteTime": {
     "end_time": "2022-01-05T16:57:21.873149Z",
     "start_time": "2022-01-05T16:57:21.855118Z"
    }
   },
   "outputs": [],
   "source": [
    "# why is it better to do what he did without an init? He still creates instance of it? I guess you just dont neeed it?"
   ]
  },
  {
   "cell_type": "markdown",
   "id": "decreased-glasgow",
   "metadata": {},
   "source": [
    "# Prototype\n",
    "\n",
    "complicated objects are not designed from scratch - you dont go from 0 to a working car. Instead you are likely to have an existing design, that you can copy, customise it somehow, add any missing stuff etc.\n",
    "\n",
    "in order to copy, we need 'deep copy' support\n",
    "\n",
    "we want to make cloning convenient (e.g. with a factory)\n",
    "\n",
    "prototype = partially or fully initialised object, that you can copy or clone, and make use of it\n",
    "\n"
   ]
  },
  {
   "cell_type": "markdown",
   "id": "important-shadow",
   "metadata": {},
   "source": [
    "## prototype"
   ]
  },
  {
   "cell_type": "code",
   "execution_count": 1,
   "id": "friendly-adobe",
   "metadata": {
    "ExecuteTime": {
     "end_time": "2022-01-12T17:17:32.680971Z",
     "start_time": "2022-01-12T17:17:32.653105Z"
    }
   },
   "outputs": [],
   "source": [
    "import copy\n",
    "\n",
    "# we have an address class for our person\n",
    "class Address:\n",
    "    def __init__(self, street_address, city, country):\n",
    "        self.country = country\n",
    "        self.city = city\n",
    "        self.street_address = street_address\n",
    "\n",
    "    def __str__(self):\n",
    "        return f'{self.street_address}, {self.city}, {self.country}'\n",
    "\n"
   ]
  },
  {
   "cell_type": "code",
   "execution_count": 2,
   "id": "renewable-decimal",
   "metadata": {
    "ExecuteTime": {
     "end_time": "2022-01-12T17:17:32.982049Z",
     "start_time": "2022-01-12T17:17:32.971059Z"
    }
   },
   "outputs": [],
   "source": [
    "# we have a person that has a name and an address\n",
    "class Person:\n",
    "    def __init__(self, name, address):\n",
    "        self.name = name\n",
    "        self.address = address\n",
    "\n",
    "    def __str__(self):\n",
    "        return f'{self.name} lives at {self.address}'\n",
    "\n"
   ]
  },
  {
   "cell_type": "code",
   "execution_count": 3,
   "id": "cross-republic",
   "metadata": {
    "ExecuteTime": {
     "end_time": "2022-01-12T17:17:33.515296Z",
     "start_time": "2022-01-12T17:17:33.503950Z"
    }
   },
   "outputs": [
    {
     "name": "stdout",
     "output_type": "stream",
     "text": [
      "John lives at 123 London Road, London, UK\n"
     ]
    }
   ],
   "source": [
    "john = Person(\"John\", Address(\"123 London Road\", \"London\", \"UK\"))\n",
    "print(john)"
   ]
  },
  {
   "cell_type": "code",
   "execution_count": 5,
   "id": "multiple-activation",
   "metadata": {
    "ExecuteTime": {
     "end_time": "2022-01-12T17:18:19.892578Z",
     "start_time": "2022-01-12T17:18:19.887570Z"
    }
   },
   "outputs": [
    {
     "name": "stdout",
     "output_type": "stream",
     "text": [
      "Jane lives at 123 London Road, London, UK Jane lives at 123 London Road, London, UK\n"
     ]
    }
   ],
   "source": [
    "# what if we want to make additional people?\n",
    "jane = john\n",
    "jane.name = 'Jane'\n",
    "print(john, jane)\n",
    "\n",
    "# this does not work- editing jane is also editing john. John and jane are referring to the same object"
   ]
  },
  {
   "cell_type": "code",
   "execution_count": 6,
   "id": "false-harassment",
   "metadata": {
    "ExecuteTime": {
     "end_time": "2022-01-12T17:24:42.531387Z",
     "start_time": "2022-01-12T17:24:42.523375Z"
    }
   },
   "outputs": [
    {
     "name": "stdout",
     "output_type": "stream",
     "text": [
      "John lives at 123 London Road, London, UK Jane lives at 124 London Road, London, UK\n"
     ]
    }
   ],
   "source": [
    "john = Person(\"John\", Address(\"123 London Road\", \"London\", \"UK\"))\n",
    "#instead we take a deepcopy to make a new object\n",
    "# maybe we want to still keep using the Address object, but we want to sometimes customise it. if we did what we did before, we edit the original one\n",
    "jane = copy.deepcopy(john)\n",
    "jane.name = \"Jane\"\n",
    "jane.address.street_address = \"124 London Road\"\n",
    "print(john, jane)\n",
    "\n",
    "#differmce with this and copy.copy:\n",
    "\n",
    "# copy.copy is shallow copy- any object that is a reference will be copied over as a reference. So in the above example the Address part would be shared between john and jane still. Deep copy is creating new version of references."
   ]
  },
  {
   "cell_type": "markdown",
   "id": "religious-elite",
   "metadata": {},
   "source": [
    "## prototype factory\n",
    "\n",
    "sometimes we don't want to keep on copying prototypes- it is nice to have a seperate component that will do it for us."
   ]
  },
  {
   "cell_type": "code",
   "execution_count": 7,
   "id": "diverse-vertex",
   "metadata": {
    "ExecuteTime": {
     "end_time": "2022-01-12T17:28:51.945462Z",
     "start_time": "2022-01-12T17:28:51.930442Z"
    }
   },
   "outputs": [],
   "source": [
    "import copy\n",
    "\n",
    "# suppose we have employees in offices. they can be in a main office, or an auxilery office\n",
    "\n",
    "class Address:\n",
    "    def __init__(self, street_address, suite, city):\n",
    "        self.suite = suite\n",
    "        self.city = city\n",
    "        self.street_address = street_address\n",
    "\n",
    "    def __str__(self):\n",
    "        return f'{self.street_address}, Suite #{self.suite}, {self.city}'\n",
    "\n",
    "class Employee:\n",
    "    def __init__(self, name, address):\n",
    "        self.address = address\n",
    "        self.name = name\n",
    "\n",
    "    def __str__(self):\n",
    "        return f'{self.name} works at {self.address}'\n"
   ]
  },
  {
   "cell_type": "code",
   "execution_count": 8,
   "id": "affecting-architecture",
   "metadata": {
    "ExecuteTime": {
     "end_time": "2022-01-12T17:28:54.461972Z",
     "start_time": "2022-01-12T17:28:54.453932Z"
    }
   },
   "outputs": [],
   "source": [
    "\n",
    "\n",
    "class EmployeeFactory:\n",
    "    # we create prototypes of the main office and auxilery office employees\n",
    "    \n",
    "    main_office_employee = Employee(\"\", Address(\"123 East Dr\", 0, \"London\"))\n",
    "    aux_office_employee = Employee(\"\", Address(\"123B East Dr\", 0, \"London\"))\n",
    "\n",
    "    @staticmethod\n",
    "    def __new_employee(proto, name, suite):\n",
    "        #takes the prototype, and copies it. edits it with the info, and returns it\n",
    "        result = copy.deepcopy(proto)\n",
    "        result.name = name\n",
    "        result.address.suite = suite\n",
    "        return result\n",
    "\n",
    "    @staticmethod\n",
    "    def new_main_office_employee(name, suite):\n",
    "        return EmployeeFactory.__new_employee(\n",
    "            EmployeeFactory.main_office_employee,\n",
    "            name, suite\n",
    "        )\n",
    "\n",
    "    @staticmethod\n",
    "    def new_aux_office_employee(name, suite):\n",
    "        return EmployeeFactory.__new_employee(\n",
    "            EmployeeFactory.aux_office_employee,\n",
    "            name, suite\n",
    "        )\n"
   ]
  },
  {
   "cell_type": "code",
   "execution_count": 9,
   "id": "assisted-interview",
   "metadata": {
    "ExecuteTime": {
     "end_time": "2022-01-12T17:28:55.422652Z",
     "start_time": "2022-01-12T17:28:55.403797Z"
    }
   },
   "outputs": [
    {
     "name": "stdout",
     "output_type": "stream",
     "text": [
      "John works at 123 East Dr, Suite #101, London\n",
      "Jane works at 123B East Dr, Suite #200, London\n"
     ]
    }
   ],
   "source": [
    "\n",
    "# this is how we would have done it before, if we wanted to make a new instance for John:\n",
    "main_office_employee = Employee(\"\", Address(\"123 East Dr\", 0, \"London\"))\n",
    "aux_office_employee = Employee(\"\", Address(\"123B East Dr\", 0, \"London\"))\n",
    "\n",
    "john = copy.deepcopy(main_office_employee)\n",
    "john.name = \"John\"\n",
    "john.address.suite = 101\n",
    "print(john)\n",
    "\n",
    "\n",
    "# would prefer to write just one line of code\n",
    "jane = EmployeeFactory.new_aux_office_employee(\"Jane\", 200)\n",
    "print(jane)\n",
    "\n"
   ]
  },
  {
   "cell_type": "markdown",
   "id": "wound-overhead",
   "metadata": {},
   "source": [
    "## Exercise\n",
    "\n",
    "given the definitions shown in the below code, you are asked to implement Line.deepcopy() to perform a deep copy og the given Line object. This method should return a copy of Line that contains copies of it's start and end points\n",
    "\n",
    "Note please do not confuse deep_copy() with \\_\\_deepcopy\\_\\_() !"
   ]
  },
  {
   "cell_type": "code",
   "execution_count": 15,
   "id": "persistent-display",
   "metadata": {
    "ExecuteTime": {
     "end_time": "2022-01-12T17:32:34.534454Z",
     "start_time": "2022-01-12T17:32:34.529256Z"
    }
   },
   "outputs": [],
   "source": [
    "# prompt\n",
    "class Point:\n",
    "    def __init__(self, x=0, y=0):\n",
    "        self.x = x\n",
    "        self.y = y\n",
    "\n",
    "class Line:\n",
    "    def __init__(self, start=Point(), end=Point()):\n",
    "        self.start = start\n",
    "        self.end = end\n",
    "\n",
    "    def deep_copy(self):\n",
    "        # TODO\n",
    "        pass"
   ]
  },
  {
   "cell_type": "code",
   "execution_count": 28,
   "id": "piano-reform",
   "metadata": {
    "ExecuteTime": {
     "end_time": "2022-01-12T17:35:40.349653Z",
     "start_time": "2022-01-12T17:35:40.331432Z"
    }
   },
   "outputs": [],
   "source": [
    "\n",
    "#my answer\n",
    "class Point:\n",
    "    def __init__(self, x=0, y=0):\n",
    "        self.x = x\n",
    "        self.y = y\n",
    "\n",
    "class Line:\n",
    "    def __init__(self, start=Point(), end=Point()):\n",
    "        self.start = start\n",
    "        self.end = end\n",
    "\n",
    "    def deep_copy(self):\n",
    "        cp = copy.deepcopy(self)\n",
    "        return cp\n",
    "    \n",
    "    def __str__(self):\n",
    "        return('{} {} {} {}'.format(self.start.x, self.start.y, self.end.x, self.end.y))"
   ]
  },
  {
   "cell_type": "code",
   "execution_count": 29,
   "id": "adapted-footwear",
   "metadata": {
    "ExecuteTime": {
     "end_time": "2022-01-12T17:35:41.092833Z",
     "start_time": "2022-01-12T17:35:41.076894Z"
    }
   },
   "outputs": [],
   "source": [
    "p1 = Point(1,1)\n",
    "p2 = Point(2,2)\n",
    "\n",
    "l1 = Line(p1,p2)"
   ]
  },
  {
   "cell_type": "code",
   "execution_count": 33,
   "id": "pretty-bonus",
   "metadata": {
    "ExecuteTime": {
     "end_time": "2022-01-12T17:37:41.072903Z",
     "start_time": "2022-01-12T17:37:41.065606Z"
    }
   },
   "outputs": [],
   "source": [
    "l2 = l1.deep_copy()\n",
    "l2.start = Point(3,3)\n",
    "l2.end = Point(3,3)"
   ]
  },
  {
   "cell_type": "code",
   "execution_count": 34,
   "id": "scenic-attitude",
   "metadata": {
    "ExecuteTime": {
     "end_time": "2022-01-12T17:37:41.565563Z",
     "start_time": "2022-01-12T17:37:41.548853Z"
    }
   },
   "outputs": [
    {
     "name": "stdout",
     "output_type": "stream",
     "text": [
      "1 1 2 2\n",
      "3 3 3 3\n"
     ]
    }
   ],
   "source": [
    "print(l1)\n",
    "print(l2)"
   ]
  },
  {
   "cell_type": "code",
   "execution_count": 36,
   "id": "joined-thriller",
   "metadata": {
    "ExecuteTime": {
     "end_time": "2022-01-12T17:37:51.198508Z",
     "start_time": "2022-01-12T17:37:51.182507Z"
    }
   },
   "outputs": [],
   "source": [
    "# his answer\n",
    "class Point:\n",
    "    def __init__(self, x=0, y=0):\n",
    "        self.x = x\n",
    "        self.y = y\n",
    "\n",
    "class Line:\n",
    "    def __init__(self, start=Point(), end=Point()):\n",
    "        self.start = start\n",
    "        self.end = end\n",
    "\n",
    "    def deep_copy(self):\n",
    "        new_start = Point(self.start.x, self.start.y)\n",
    "        new_end = Point(self.end.x, self.end.y)\n",
    "        return Line(new_start, new_end)"
   ]
  },
  {
   "cell_type": "code",
   "execution_count": 35,
   "id": "different-progress",
   "metadata": {
    "ExecuteTime": {
     "end_time": "2022-01-12T17:37:49.412191Z",
     "start_time": "2022-01-12T17:37:49.398073Z"
    }
   },
   "outputs": [],
   "source": [
    "# i dunno if mine is ok?? it works so i dont see why not"
   ]
  }
 ],
 "metadata": {
  "kernelspec": {
   "display_name": "Python 3",
   "language": "python",
   "name": "python3"
  },
  "language_info": {
   "codemirror_mode": {
    "name": "ipython",
    "version": 3
   },
   "file_extension": ".py",
   "mimetype": "text/x-python",
   "name": "python",
   "nbconvert_exporter": "python",
   "pygments_lexer": "ipython3",
   "version": "3.7.9"
  },
  "toc": {
   "base_numbering": 1,
   "nav_menu": {},
   "number_sections": true,
   "sideBar": true,
   "skip_h1_title": false,
   "title_cell": "Table of Contents",
   "title_sidebar": "Contents",
   "toc_cell": false,
   "toc_position": {
    "height": "calc(100% - 180px)",
    "left": "10px",
    "top": "150px",
    "width": "170.667px"
   },
   "toc_section_display": true,
   "toc_window_display": true
  }
 },
 "nbformat": 4,
 "nbformat_minor": 5
}
